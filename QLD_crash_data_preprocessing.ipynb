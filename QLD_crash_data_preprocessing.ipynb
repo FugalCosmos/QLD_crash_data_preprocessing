{
 "cells": [
  {
   "attachments": {},
   "cell_type": "markdown",
   "metadata": {},
   "source": [
    "# Required Libraries"
   ]
  },
  {
   "cell_type": "code",
   "execution_count": 2,
   "metadata": {},
   "outputs": [],
   "source": [
    "import pandas as pd\n",
    "import numpy as np\n",
    "\n",
    "import random\n",
    "\n",
    "# Set the random seed for the random module\n",
    "random.seed(42)\n",
    "\n",
    "# Set the random seed for NumPy\n",
    "np.random.seed(42)"
   ]
  },
  {
   "attachments": {},
   "cell_type": "markdown",
   "metadata": {},
   "source": [
    "# Datasets"
   ]
  },
  {
   "attachments": {},
   "cell_type": "markdown",
   "metadata": {},
   "source": [
    "Data retrieved from: https://www.data.qld.gov.au/dataset/crash-data-from-queensland-roads/resource/18ee2911-992f-40ed-b6ae-e756859786e6?inner_span=True"
   ]
  },
  {
   "attachments": {},
   "cell_type": "markdown",
   "metadata": {},
   "source": [
    "There are 4 crash datasets to be preprocessed. They involve:\n",
    "1. Road crash locations\n",
    "2. Driver demographics\n",
    "3. Vehicle types\n",
    "4. Road crash factors\n",
    "\n",
    "These 4 were chosen as they share multiple columns which will allow for joining. The road casualties and seatbelt restraints datasets were excluded as they did not share columns."
   ]
  },
  {
   "cell_type": "code",
   "execution_count": 3,
   "metadata": {},
   "outputs": [],
   "source": [
    "df_crash_locations = pd.read_csv(\"crash_data_queensland_1_crash_locations.csv\")\n",
    "df_crash_driver_demographics = pd.read_csv(\"crash_data_queensland_b_driver_involvement.csv\")\n",
    "df_crash_vehicle_types = pd.read_csv(\"crash_data_queensland_d_vehicle_involvement.csv\")\n",
    "df_crash_factors = pd.read_csv(\"crash_data_queensland_e_alcohol_speed_fatigue_defect.csv\")"
   ]
  },
  {
   "attachments": {},
   "cell_type": "markdown",
   "metadata": {},
   "source": [
    "Property damage crashes were recorded only up to 2010, therefore crashes that resulted in these will be excluded"
   ]
  },
  {
   "cell_type": "code",
   "execution_count": 4,
   "metadata": {},
   "outputs": [],
   "source": [
    "df_locations = df_crash_locations[df_crash_locations['Crash_Severity'] != 'Property damage only']\n",
    "df_driver_demographics = df_crash_driver_demographics[df_crash_driver_demographics['Crash_Severity'] != 'Property damage only']\n",
    "df_vehicle_types = df_crash_vehicle_types[df_crash_vehicle_types[\"Crash_Severity\"] != \"Property damage\"]\n",
    "df_factors = df_crash_factors[df_crash_factors[\"Crash_Severity\"] != \"Property damage\"]"
   ]
  },
  {
   "attachments": {},
   "cell_type": "markdown",
   "metadata": {},
   "source": [
    "Now to get an initial look at the four datasets"
   ]
  },
  {
   "cell_type": "code",
   "execution_count": 5,
   "metadata": {},
   "outputs": [
    {
     "name": "stdout",
     "output_type": "stream",
     "text": [
      "<class 'pandas.core.frame.DataFrame'>\n",
      "Int64Index: 279798 entries, 0 to 367229\n",
      "Data columns (total 52 columns):\n",
      " #   Column                           Non-Null Count   Dtype  \n",
      "---  ------                           --------------   -----  \n",
      " 0   Crash_Ref_Number                 279798 non-null  int64  \n",
      " 1   Crash_Severity                   279798 non-null  object \n",
      " 2   Crash_Year                       279798 non-null  int64  \n",
      " 3   Crash_Month                      279798 non-null  object \n",
      " 4   Crash_Day_Of_Week                279798 non-null  object \n",
      " 5   Crash_Hour                       279798 non-null  int64  \n",
      " 6   Crash_Nature                     279798 non-null  object \n",
      " 7   Crash_Type                       279798 non-null  object \n",
      " 8   Crash_Longitude                  279798 non-null  float64\n",
      " 9   Crash_Latitude                   279798 non-null  float64\n",
      " 10  Crash_Street                     279791 non-null  object \n",
      " 11  Crash_Street_Intersecting        121005 non-null  object \n",
      " 12  State_Road_Name                  129563 non-null  object \n",
      " 13  Loc_Suburb                       279798 non-null  object \n",
      " 14  Loc_Local_Government_Area        279798 non-null  object \n",
      " 15  Loc_Post_Code                    279798 non-null  object \n",
      " 16  Loc_Police_Division              279798 non-null  object \n",
      " 17  Loc_Police_District              279798 non-null  object \n",
      " 18  Loc_Police_Region                279798 non-null  object \n",
      " 19  Loc_Queensland_Transport_Region  279798 non-null  object \n",
      " 20  Loc_Main_Roads_Region            279798 non-null  object \n",
      " 21  Loc_ABS_Statistical_Area_2       279798 non-null  object \n",
      " 22  Loc_ABS_Statistical_Area_3       279798 non-null  object \n",
      " 23  Loc_ABS_Statistical_Area_4       279798 non-null  object \n",
      " 24  Loc_ABS_Remoteness               279798 non-null  object \n",
      " 25  Loc_State_Electorate             279798 non-null  object \n",
      " 26  Loc_Federal_Electorate           279798 non-null  object \n",
      " 27  Crash_Controlling_Authority      279798 non-null  object \n",
      " 28  Crash_Roadway_Feature            279798 non-null  object \n",
      " 29  Crash_Traffic_Control            279798 non-null  object \n",
      " 30  Crash_Speed_Limit                279795 non-null  object \n",
      " 31  Crash_Road_Surface_Condition     279798 non-null  object \n",
      " 32  Crash_Atmospheric_Condition      279798 non-null  object \n",
      " 33  Crash_Lighting_Condition         279798 non-null  object \n",
      " 34  Crash_Road_Horiz_Align           279798 non-null  object \n",
      " 35  Crash_Road_Vert_Align            279797 non-null  object \n",
      " 36  Crash_DCA_Code                   279785 non-null  float64\n",
      " 37  Crash_DCA_Description            279785 non-null  object \n",
      " 38  Crash_DCA_Group_Description      279798 non-null  object \n",
      " 39  DCA_Key_Approach_Dir             275203 non-null  object \n",
      " 40  Count_Casualty_Fatality          279798 non-null  int64  \n",
      " 41  Count_Casualty_Hospitalised      279798 non-null  int64  \n",
      " 42  Count_Casualty_MedicallyTreated  279798 non-null  int64  \n",
      " 43  Count_Casualty_MinorInjury       279798 non-null  int64  \n",
      " 44  Count_Casualty_Total             279798 non-null  int64  \n",
      " 45  Count_Unit_Car                   279798 non-null  int64  \n",
      " 46  Count_Unit_Motorcycle_Moped      279798 non-null  int64  \n",
      " 47  Count_Unit_Truck                 279798 non-null  int64  \n",
      " 48  Count_Unit_Bus                   279798 non-null  int64  \n",
      " 49  Count_Unit_Bicycle               279798 non-null  int64  \n",
      " 50  Count_Unit_Pedestrian            279798 non-null  int64  \n",
      " 51  Count_Unit_Other                 279798 non-null  int64  \n",
      "dtypes: float64(3), int64(15), object(34)\n",
      "memory usage: 113.1+ MB\n"
     ]
    }
   ],
   "source": [
    "df_locations.info()"
   ]
  },
  {
   "cell_type": "code",
   "execution_count": 6,
   "metadata": {},
   "outputs": [
    {
     "name": "stdout",
     "output_type": "stream",
     "text": [
      "<class 'pandas.core.frame.DataFrame'>\n",
      "Int64Index: 16713 entries, 0 to 19895\n",
      "Data columns (total 16 columns):\n",
      " #   Column                              Non-Null Count  Dtype \n",
      "---  ------                              --------------  ----- \n",
      " 0   Crash_Year                          16713 non-null  int64 \n",
      " 1   Crash_Police_Region                 16713 non-null  object\n",
      " 2   Crash_Severity                      16713 non-null  object\n",
      " 3   Involving_Male_Driver               16713 non-null  object\n",
      " 4   Involving_Female_Driver             16713 non-null  object\n",
      " 5   Involving_Young_Driver_16-24        16713 non-null  object\n",
      " 6   Involving_Senior_Driver_60plus      16713 non-null  object\n",
      " 7   Involving_Provisional_Driver        16713 non-null  object\n",
      " 8   Involving_Overseas_Licensed_Driver  16713 non-null  object\n",
      " 9   Involving_Unlicensed_Driver         16713 non-null  object\n",
      " 10  Count_Crashes                       16713 non-null  int64 \n",
      " 11  Count_Casualty_Fatality             16713 non-null  int64 \n",
      " 12  Count_Casualty_Hospitalised         16713 non-null  int64 \n",
      " 13  Count_Casualty_MedicallyTreated     16713 non-null  int64 \n",
      " 14  Count_Casualty_MinorInjury          16713 non-null  int64 \n",
      " 15  Count_Casualty_All                  16713 non-null  int64 \n",
      "dtypes: int64(7), object(9)\n",
      "memory usage: 2.2+ MB\n"
     ]
    }
   ],
   "source": [
    "df_driver_demographics.info()"
   ]
  },
  {
   "cell_type": "code",
   "execution_count": 7,
   "metadata": {},
   "outputs": [
    {
     "name": "stdout",
     "output_type": "stream",
     "text": [
      "<class 'pandas.core.frame.DataFrame'>\n",
      "Int64Index: 3246 entries, 0 to 3245\n",
      "Data columns (total 12 columns):\n",
      " #   Column                           Non-Null Count  Dtype \n",
      "---  ------                           --------------  ----- \n",
      " 0   Crash_Year                       3246 non-null   int64 \n",
      " 1   Crash_Police_Region              3246 non-null   object\n",
      " 2   Crash_Severity                   3246 non-null   object\n",
      " 3   Involving_Motorcycle_Moped       3246 non-null   object\n",
      " 4   Involving_Truck                  3246 non-null   object\n",
      " 5   Involving_Bus                    3246 non-null   object\n",
      " 6   Count_Crashes                    3246 non-null   int64 \n",
      " 7   Count_Casualty_Fatality          3246 non-null   int64 \n",
      " 8   Count_Casualty_Hospitalised      3246 non-null   int64 \n",
      " 9   Count_Casualty_MedicallyTreated  3246 non-null   int64 \n",
      " 10  Count_Casualty_MinorInjury       3246 non-null   int64 \n",
      " 11  Count_Casualty_All               3246 non-null   int64 \n",
      "dtypes: int64(7), object(5)\n",
      "memory usage: 329.7+ KB\n"
     ]
    }
   ],
   "source": [
    "df_vehicle_types.info()"
   ]
  },
  {
   "cell_type": "code",
   "execution_count": 8,
   "metadata": {},
   "outputs": [
    {
     "name": "stdout",
     "output_type": "stream",
     "text": [
      "<class 'pandas.core.frame.DataFrame'>\n",
      "Int64Index: 4799 entries, 0 to 4798\n",
      "Data columns (total 13 columns):\n",
      " #   Column                       Non-Null Count  Dtype \n",
      "---  ------                       --------------  ----- \n",
      " 0   Crash_Year                   4799 non-null   int64 \n",
      " 1   Crash_Police_Region          4799 non-null   object\n",
      " 2   Crash_Severity               4799 non-null   object\n",
      " 3   Involving_Drink_Driving      4799 non-null   object\n",
      " 4   Involving_Driver_Speed       4799 non-null   object\n",
      " 5   Involving_Fatigued_Driver    4799 non-null   object\n",
      " 6   Involving_Defective_Vehicle  4799 non-null   object\n",
      " 7   Count_Crashes                4799 non-null   int64 \n",
      " 8   Count_Fatality               4799 non-null   int64 \n",
      " 9   Count_Hospitalised           4799 non-null   int64 \n",
      " 10  Count_Medically_Treated      4799 non-null   int64 \n",
      " 11  Count_Minor_Injury           4799 non-null   int64 \n",
      " 12  Count_All_Casualties         4799 non-null   int64 \n",
      "dtypes: int64(7), object(6)\n",
      "memory usage: 524.9+ KB\n"
     ]
    }
   ],
   "source": [
    "df_factors.info()"
   ]
  },
  {
   "attachments": {},
   "cell_type": "markdown",
   "metadata": {},
   "source": [
    "From the above, one can see that they share some columns such as:\n",
    "\n",
    "- Crash Year\n",
    "- Crash Severity\n",
    "- Crash Police Region (excluding locations dataset)\n",
    "- Count variables (excluding the factors dataset)\n",
    "\n",
    "The locations and factors datasets will have to be preprocessed as their variable names do not match with the other datasets."
   ]
  },
  {
   "attachments": {},
   "cell_type": "markdown",
   "metadata": {},
   "source": [
    "For the factors datasets, a column mapping was defined, and the columns were renamed based on this column mapping"
   ]
  },
  {
   "cell_type": "code",
   "execution_count": 9,
   "metadata": {},
   "outputs": [
    {
     "data": {
      "text/plain": [
       "Index(['Crash_Year', 'Crash_Police_Region', 'Crash_Severity',\n",
       "       'Involving_Drink_Driving', 'Involving_Driver_Speed',\n",
       "       'Involving_Fatigued_Driver', 'Involving_Defective_Vehicle',\n",
       "       'Count_Crashes', 'Count_Casualty_Fatality',\n",
       "       'Count_Casualty_Hospitalised', 'Count_Casualty_MedicallyTreated',\n",
       "       'Count_Casualty_MinorInjury', 'Count_Casualty_All'],\n",
       "      dtype='object')"
      ]
     },
     "execution_count": 9,
     "metadata": {},
     "output_type": "execute_result"
    }
   ],
   "source": [
    "column_mapping = {'Count_Fatality': 'Count_Casualty_Fatality',\n",
    "                  'Count_Hospitalised': 'Count_Casualty_Hospitalised',\n",
    "                  'Count_Medically_Treated': 'Count_Casualty_MedicallyTreated',\n",
    "                  'Count_Minor_Injury': 'Count_Casualty_MinorInjury',\n",
    "                  'Count_All_Casualties': 'Count_Casualty_All',\n",
    "}\n",
    "\n",
    "# renaming columns based on the dictionary mapping\n",
    "df_factors_renamed = df_factors.rename(columns=column_mapping)\n",
    "\n",
    "df_factors_renamed.columns"
   ]
  },
  {
   "attachments": {},
   "cell_type": "markdown",
   "metadata": {},
   "source": [
    "For the locations dataset, there were three different police location variables (District, Division, Region). To determine which column corresponded with the Crash_Police_Region column in the other three datasets, the unique values of these location variables were analysed."
   ]
  },
  {
   "cell_type": "code",
   "execution_count": 10,
   "metadata": {},
   "outputs": [
    {
     "data": {
      "text/plain": [
       "array(['South Brisbane', 'Unknown', 'North Brisbane', 'Ipswich', 'Logan',\n",
       "       'Moreton', 'Gold Coast', 'Sunshine Coast', 'Wide Bay Burnett',\n",
       "       'Darling Downs', 'Capricornia', 'South West', 'Mackay',\n",
       "       'Mount Isa', 'Townsville', 'Far North'], dtype=object)"
      ]
     },
     "execution_count": 10,
     "metadata": {},
     "output_type": "execute_result"
    }
   ],
   "source": [
    "# Unique district values\n",
    "df_locations[\"Loc_Police_District\"].unique()"
   ]
  },
  {
   "cell_type": "code",
   "execution_count": 11,
   "metadata": {},
   "outputs": [
    {
     "data": {
      "text/plain": [
       "array(['Acacia Ridge', 'Moorooka', 'Upper Mount Gravatt', 'Calamvale',\n",
       "       'Dutton Park', 'Annerley', 'Unknown', 'Coorparoo', 'Holland Park',\n",
       "       'Sherwood', 'The Gap', 'Ferny Grove', 'Indooroopilly',\n",
       "       'Brisbane City', 'Carina', 'Wynnum', 'Morningside', 'Capalaba',\n",
       "       'Fortitude Valley', 'West End', 'Inala', 'Mount Ommaney', 'Goodna',\n",
       "       'Browns Plains', 'Sandgate', 'Carseldine',\n",
       "       'Mango Hill North Lakes', 'Albany Creek', 'Petrie', 'Stafford',\n",
       "       'Boondall', 'Logan Central', 'Springwood', 'Hendra', 'Dayboro',\n",
       "       'Beaudesert', 'Kalbar', 'Beenleigh', 'Coomera', 'North Tamborine',\n",
       "       'Caboolture', 'Burpengary', 'Deception Bay', 'Bribie Island',\n",
       "       'Woodford', 'Beerwah', 'Cleveland', 'Redland Bay',\n",
       "       'Russell Island', 'Macleay Island', 'Loganholme', 'Esk', 'Dunwich',\n",
       "       'Karana Downs', 'Ipswich', 'Redcliffe', 'Crestmead', 'Jimboomba',\n",
       "       'Yamanto', 'Booval', 'Springfield', 'Marburg', 'Rosewood',\n",
       "       'Broadbeach', 'Robina', 'Southport', 'Nerang', 'Palm Beach',\n",
       "       'Caloundra', 'Kawana Waters', 'Canungra', 'Rathdowney',\n",
       "       'Coolangatta', 'Coolum', 'Maroochydore', 'Nambour', 'Pomona',\n",
       "       'Cooroy', 'Noosa Heads', 'Imbil', 'Eumundi', 'Kenilworth',\n",
       "       'Maleny', 'Kilcoy', 'Moore', 'Sippy Downs', 'Lowood', 'Laidley',\n",
       "       'Palmwoods', 'Blackbutt', 'Toogoolawah', 'Nanango', 'Mudgeeraba',\n",
       "       'Runaway Bay', 'Surfers Paradise', 'Logan Village Yarrabilba',\n",
       "       'Boonah', 'Harrisville', 'Yangan', 'Crows Nest', 'Helidon',\n",
       "       'Gatton', 'Drayton', 'Bundaberg', 'Bargara', 'Biggenden',\n",
       "       'South Kolan', 'Cherbourg', 'Murgon', 'Goomeri', 'Childers',\n",
       "       'Gin Gin', 'Eidsvold', 'Mundubbera', 'Gayndah', 'Monto',\n",
       "       'Kilkivan', 'Gympie', 'Tin Can Bay', 'Hervey Bay', 'Maryborough',\n",
       "       'Fraser Island', 'Howard', 'Kingaroy', 'Wondai', 'Kumbia', 'Tiaro',\n",
       "       'Miriam Vale', 'Agnes Water', 'Rosedale', 'Biloela', 'Many Peaks',\n",
       "       'Mount Perry', 'Cooyar', 'Proston', 'Toowoomba', 'Highfields',\n",
       "       'Oakey', 'Allora', 'Clifton', 'Leyburn', 'Warwick', 'Cecil Plains',\n",
       "       'Millmerran', 'Dalby', 'Tara', 'Goombungee', 'Yarraman',\n",
       "       'Goondiwindi', 'Inglewood', 'Pittsworth', 'Stanthorpe',\n",
       "       'Wallangarra', 'Thallon', 'Talwood', 'Mungindi', 'Yelarbon',\n",
       "       'Meandarra', 'Taroom', 'Roma', 'Wandoan', 'Injune', 'Texas',\n",
       "       'Cambooya', 'Jondaryan', 'Peranga', 'Bell', 'Chinchilla',\n",
       "       'Jandowae', 'Killarney', 'Saint George', 'Surat', 'Dulacca',\n",
       "       'Yuleba', 'Mitchell', 'Yaraka', 'Bollon', 'Mungallala',\n",
       "       'Wallumbilla', 'Dirranbandi', 'Miles', 'Cunnamulla', 'Wyandra',\n",
       "       'Charleville', 'Eulo', 'Thargomindah', 'Hungerford', 'Quilpie',\n",
       "       'Adavale', 'Eromanga', 'Tambo', 'Augathella', 'Morven', 'Alpha',\n",
       "       'Jericho', 'Anakie', 'Springsure', 'Baralaba', 'Moura', 'Goovigen',\n",
       "       'Calliope', 'Blackwater', 'Woorabinda', 'Mount Larcom',\n",
       "       'Tannum Sands', 'Gladstone', 'Capella', 'Duaringa', 'Emerald',\n",
       "       'Emu Park', 'Lakes Creek', 'Yeppoon', 'Wowan', 'North Rockhampton',\n",
       "       'Marlborough', 'Marmor', 'Gracemere', 'Rockhampton', 'Theodore',\n",
       "       'Mount Morgan', 'Rolleston', 'Tieri', 'Middlemount', 'Westwood',\n",
       "       'Muttaburra', 'Aramac', 'Barcaldine', 'Bedourie', 'Birdsville',\n",
       "       'Windorah', 'Blackall', 'Boulia', 'Dajarra', 'Ilfracombe',\n",
       "       'Isisford', 'Jundah', 'Longreach', 'Winton', 'Richmond',\n",
       "       'Proserpine', 'Calen', 'Seaforth', 'Mirani', 'Whitsunday',\n",
       "       'Saint Lawrence', 'Carmila', 'Sarina', 'Clermont', 'Dysart',\n",
       "       'Eton', 'Walkerston', 'Mackay', 'Mackay Northern Beaches',\n",
       "       'Farleigh', 'Finch Hatton', 'Glenden', 'Nebo', 'Marian',\n",
       "       'Moranbah', 'Ayr', 'Home Hill', 'Bowen', 'Collinsville',\n",
       "       'Charters Towers', 'Pentland', 'Ravenswood', 'Giru', 'Stuart',\n",
       "       'Greenvale', 'Mount Garnet', 'Mount Surprise', 'Halifax', 'Ingham',\n",
       "       'Rollingstone', 'Cardwell', 'Kirwan', 'Mundingburra', 'Townsville',\n",
       "       'Deeragun', 'Magnetic Island', 'Palm Island', 'Atherton',\n",
       "       'Mareeba', 'Yungaburra', 'Malanda', 'Babinda', 'Gordonvale',\n",
       "       'Innisfail', 'Bamaga', 'Cairns', 'Chillagoe', 'Dimbulah', 'Coen',\n",
       "       'Laura', 'Pormpuraaw', 'Cooktown', 'Hope Vale', 'Wujal Wujal',\n",
       "       'Herberton', 'Edmonton', 'Mission Beach', 'El Arish', 'Georgetown',\n",
       "       'Forsayth', 'Croydon', 'Ravenshoe', 'Mourilyan', 'South Johnstone',\n",
       "       'Kuranda', 'Smithfield', 'Lockhart River', 'Weipa',\n",
       "       'Millaa Millaa', 'Mossman', 'Port Douglas', 'Mount Molloy',\n",
       "       'Silkwood', 'Thursday Island', 'Badu Island', 'Horn Island',\n",
       "       'Tully', 'Aurukun', 'Yarrabah', 'Burketown', 'Camooweal',\n",
       "       'Mount Isa', 'Cloncurry', 'Kynuna', 'Doomadgee', 'Hughenden',\n",
       "       'Prairie', 'Julia Creek', 'Karumba', 'Normanton', 'Kowanyama',\n",
       "       'Mckinlay', 'Mornington Island', 'Clare'], dtype=object)"
      ]
     },
     "execution_count": 11,
     "metadata": {},
     "output_type": "execute_result"
    }
   ],
   "source": [
    "# unique division values\n",
    "df_locations[\"Loc_Police_Division\"].unique()"
   ]
  },
  {
   "cell_type": "code",
   "execution_count": 12,
   "metadata": {},
   "outputs": [
    {
     "data": {
      "text/plain": [
       "array(['Brisbane', 'Unknown', 'Southern', 'South Eastern', 'North Coast',\n",
       "       'Central', 'Northern', 'Far Northern'], dtype=object)"
      ]
     },
     "execution_count": 12,
     "metadata": {},
     "output_type": "execute_result"
    }
   ],
   "source": [
    "# unique region values\n",
    "df_locations[\"Loc_Police_Region\"].unique()"
   ]
  },
  {
   "cell_type": "code",
   "execution_count": 13,
   "metadata": {},
   "outputs": [
    {
     "name": "stdout",
     "output_type": "stream",
     "text": [
      "['Brisbane' 'Central' 'Far Northern' 'North Coast' 'Northern'\n",
      " 'South Eastern' 'Southern' 'Unknown']\n",
      "['Brisbane' 'Central' 'Far Northern' 'North Coast' 'Northern'\n",
      " 'South Eastern' 'Southern' 'Unknown']\n",
      "['Brisbane' 'Central' 'Far Northern' 'North Coast' 'Northern'\n",
      " 'South Eastern' 'Southern' 'Unknown']\n"
     ]
    }
   ],
   "source": [
    "# unique Crash_Police_Region values in the other three datasets\n",
    "print(df_driver_demographics[\"Crash_Police_Region\"].unique())\n",
    "print(df_vehicle_types[\"Crash_Police_Region\"].unique())\n",
    "print(df_factors_renamed[\"Crash_Police_Region\"].unique())"
   ]
  },
  {
   "attachments": {},
   "cell_type": "markdown",
   "metadata": {},
   "source": [
    "From the above data exploration, it would seem that Loc_Police_Region matches the Crash_Police_Region column in the other three datasets."
   ]
  },
  {
   "attachments": {},
   "cell_type": "markdown",
   "metadata": {},
   "source": [
    "As such, the Loc_Police_Region will be renamed to follow the naming scheme of the other datasets. Note that the Count_Casualty_Total column will also be renamed to Count_Casualty_All for the same reason."
   ]
  },
  {
   "cell_type": "code",
   "execution_count": 14,
   "metadata": {},
   "outputs": [
    {
     "data": {
      "text/plain": [
       "Index(['Crash_Ref_Number', 'Crash_Severity', 'Crash_Year', 'Crash_Month',\n",
       "       'Crash_Day_Of_Week', 'Crash_Hour', 'Crash_Nature', 'Crash_Type',\n",
       "       'Crash_Longitude', 'Crash_Latitude', 'Crash_Street',\n",
       "       'Crash_Street_Intersecting', 'State_Road_Name', 'Loc_Suburb',\n",
       "       'Loc_Local_Government_Area', 'Loc_Post_Code', 'Loc_Police_Division',\n",
       "       'Loc_Police_District', 'Loc_Police_Region',\n",
       "       'Loc_Queensland_Transport_Region', 'Loc_Main_Roads_Region',\n",
       "       'Loc_ABS_Statistical_Area_2', 'Loc_ABS_Statistical_Area_3',\n",
       "       'Loc_ABS_Statistical_Area_4', 'Loc_ABS_Remoteness',\n",
       "       'Loc_State_Electorate', 'Loc_Federal_Electorate',\n",
       "       'Crash_Controlling_Authority', 'Crash_Roadway_Feature',\n",
       "       'Crash_Traffic_Control', 'Crash_Speed_Limit',\n",
       "       'Crash_Road_Surface_Condition', 'Crash_Atmospheric_Condition',\n",
       "       'Crash_Lighting_Condition', 'Crash_Road_Horiz_Align',\n",
       "       'Crash_Road_Vert_Align', 'Crash_DCA_Code', 'Crash_DCA_Description',\n",
       "       'Crash_DCA_Group_Description', 'DCA_Key_Approach_Dir',\n",
       "       'Count_Casualty_Fatality', 'Count_Casualty_Hospitalised',\n",
       "       'Count_Casualty_MedicallyTreated', 'Count_Casualty_MinorInjury',\n",
       "       'Count_Casualty_Total', 'Count_Unit_Car', 'Count_Unit_Motorcycle_Moped',\n",
       "       'Count_Unit_Truck', 'Count_Unit_Bus', 'Count_Unit_Bicycle',\n",
       "       'Count_Unit_Pedestrian', 'Count_Unit_Other'],\n",
       "      dtype='object')"
      ]
     },
     "execution_count": 14,
     "metadata": {},
     "output_type": "execute_result"
    }
   ],
   "source": [
    "df_locations_renamed = df_locations.rename(columns = {\"Loc_Police_Region\": \"Crash_Police_Region\",\n",
    "                                                      \"Count_Casualty_Total\": \"Count_Casualty_All\"})\n",
    "\n",
    "df_locations.columns"
   ]
  },
  {
   "attachments": {},
   "cell_type": "markdown",
   "metadata": {},
   "source": [
    "Now to verify that the police region and count columns match across all three datasets"
   ]
  },
  {
   "cell_type": "code",
   "execution_count": 15,
   "metadata": {},
   "outputs": [
    {
     "name": "stdout",
     "output_type": "stream",
     "text": [
      "['Crash_Year', 'Crash_Severity', 'Count_Casualty_MedicallyTreated', 'Count_Casualty_All', 'Crash_Police_Region', 'Count_Casualty_Fatality', 'Count_Casualty_Hospitalised', 'Count_Casualty_MinorInjury']\n"
     ]
    }
   ],
   "source": [
    "# Get the column names for each DataFrame\n",
    "columns_locations = set(df_locations_renamed.columns)\n",
    "columns_driver_demographics = set(df_driver_demographics.columns)\n",
    "columns_vehicle_types = set(df_vehicle_types.columns)\n",
    "columns_factors = set(df_factors_renamed.columns)\n",
    "\n",
    "# Find the shared columns using .intersection\n",
    "shared_columns = list(columns_locations.intersection(columns_driver_demographics,\n",
    "                                                    columns_vehicle_types,\n",
    "                                                    columns_factors))\n",
    "\n",
    "\n",
    "print(shared_columns)"
   ]
  },
  {
   "attachments": {},
   "cell_type": "markdown",
   "metadata": {},
   "source": [
    "Before merging the datasets by performing a join, duplicate rows based on the datasets' shared columns should be inspected"
   ]
  },
  {
   "cell_type": "code",
   "execution_count": 16,
   "metadata": {},
   "outputs": [
    {
     "name": "stdout",
     "output_type": "stream",
     "text": [
      "Number of duplicates in df_locations: 272562\n",
      "Number of duplicates in df_driver_demographics: 5068\n",
      "Number of duplicates in df_vehicle_types: 353\n",
      "Number of duplicates in df_factors: 920\n"
     ]
    }
   ],
   "source": [
    "# Function to calculate the number of duplicates in a DataFrame\n",
    "def count_duplicates(df, key_columns):\n",
    "    return df.duplicated(subset=key_columns).sum()\n",
    "\n",
    "# Define the key columns to compare duplicates\n",
    "key_columns = ['Crash_Year', \n",
    "               'Crash_Police_Region', \n",
    "               'Crash_Severity', \n",
    "               'Count_Casualty_All', \n",
    "               'Count_Casualty_Fatality', \n",
    "               'Count_Casualty_Hospitalised', \n",
    "               'Count_Casualty_MedicallyTreated', \n",
    "               'Count_Casualty_MinorInjury']\n",
    "\n",
    "# Calculate the number of duplicates for each dataset\n",
    "num_duplicates_locations = count_duplicates(df_locations_renamed, key_columns)\n",
    "num_duplicates_driver = count_duplicates(df_driver_demographics, key_columns)\n",
    "num_duplicates_vehicle = count_duplicates(df_vehicle_types, key_columns)\n",
    "num_duplicates_factors = count_duplicates(df_factors_renamed, key_columns)\n",
    "\n",
    "# Print the number of duplicates for each dataset\n",
    "print(\"Number of duplicates in df_locations:\", num_duplicates_locations)\n",
    "print(\"Number of duplicates in df_driver_demographics:\", num_duplicates_driver)\n",
    "print(\"Number of duplicates in df_vehicle_types:\", num_duplicates_vehicle)\n",
    "print(\"Number of duplicates in df_factors:\", num_duplicates_factors)\n"
   ]
  },
  {
   "attachments": {},
   "cell_type": "markdown",
   "metadata": {},
   "source": [
    "From the above, it would seem that there are a large number of duplicates for these shared columns. Because of this, performing an inner join would be computationally expensive, as the resulting merged dataframe will contain all the possible combinations of the duplicated rows.\n",
    "\n",
    "Below is an example of an inner join between the locations and demographics datasets:"
   ]
  },
  {
   "cell_type": "code",
   "execution_count": 17,
   "metadata": {},
   "outputs": [
    {
     "name": "stdout",
     "output_type": "stream",
     "text": [
      "(279798, 52)\n",
      "(16713, 16)\n",
      "(1200657, 60)\n"
     ]
    }
   ],
   "source": [
    "# Define the common key columns for merging\n",
    "key_columns = ['Crash_Year', \n",
    "               'Crash_Police_Region', \n",
    "               'Crash_Severity', \n",
    "               'Count_Casualty_All',\n",
    "               'Count_Casualty_Fatality', \n",
    "               'Count_Casualty_Hospitalised', \n",
    "               'Count_Casualty_MedicallyTreated', \n",
    "               'Count_Casualty_MinorInjury']\n",
    "\n",
    "# Perform inner join on df_crash_locations and df_crash_driver_demographics\n",
    "df_merged = pd.merge(df_locations_renamed, df_driver_demographics, on=key_columns, how='inner')\n",
    "\n",
    "print(df_locations_renamed.shape)\n",
    "print(df_driver_demographics.shape)\n",
    "print(df_merged.shape)"
   ]
  },
  {
   "cell_type": "code",
   "execution_count": 18,
   "metadata": {},
   "outputs": [
    {
     "data": {
      "text/plain": [
       "Index(['Crash_Ref_Number', 'Crash_Severity', 'Crash_Year', 'Crash_Month',\n",
       "       'Crash_Day_Of_Week', 'Crash_Hour', 'Crash_Nature', 'Crash_Type',\n",
       "       'Crash_Longitude', 'Crash_Latitude', 'Crash_Street',\n",
       "       'Crash_Street_Intersecting', 'State_Road_Name', 'Loc_Suburb',\n",
       "       'Loc_Local_Government_Area', 'Loc_Post_Code', 'Loc_Police_Division',\n",
       "       'Loc_Police_District', 'Crash_Police_Region',\n",
       "       'Loc_Queensland_Transport_Region', 'Loc_Main_Roads_Region',\n",
       "       'Loc_ABS_Statistical_Area_2', 'Loc_ABS_Statistical_Area_3',\n",
       "       'Loc_ABS_Statistical_Area_4', 'Loc_ABS_Remoteness',\n",
       "       'Loc_State_Electorate', 'Loc_Federal_Electorate',\n",
       "       'Crash_Controlling_Authority', 'Crash_Roadway_Feature',\n",
       "       'Crash_Traffic_Control', 'Crash_Speed_Limit',\n",
       "       'Crash_Road_Surface_Condition', 'Crash_Atmospheric_Condition',\n",
       "       'Crash_Lighting_Condition', 'Crash_Road_Horiz_Align',\n",
       "       'Crash_Road_Vert_Align', 'Crash_DCA_Code', 'Crash_DCA_Description',\n",
       "       'Crash_DCA_Group_Description', 'DCA_Key_Approach_Dir',\n",
       "       'Count_Casualty_Fatality', 'Count_Casualty_Hospitalised',\n",
       "       'Count_Casualty_MedicallyTreated', 'Count_Casualty_MinorInjury',\n",
       "       'Count_Casualty_All', 'Count_Unit_Car', 'Count_Unit_Motorcycle_Moped',\n",
       "       'Count_Unit_Truck', 'Count_Unit_Bus', 'Count_Unit_Bicycle',\n",
       "       'Count_Unit_Pedestrian', 'Count_Unit_Other', 'Involving_Male_Driver',\n",
       "       'Involving_Female_Driver', 'Involving_Young_Driver_16-24',\n",
       "       'Involving_Senior_Driver_60plus', 'Involving_Provisional_Driver',\n",
       "       'Involving_Overseas_Licensed_Driver', 'Involving_Unlicensed_Driver',\n",
       "       'Count_Crashes'],\n",
       "      dtype='object')"
      ]
     },
     "execution_count": 18,
     "metadata": {},
     "output_type": "execute_result"
    }
   ],
   "source": [
    "df_merged.columns"
   ]
  },
  {
   "cell_type": "code",
   "execution_count": 19,
   "metadata": {},
   "outputs": [
    {
     "name": "stdout",
     "output_type": "stream",
     "text": [
      "(1200657, 60)\n",
      "(3246, 12)\n",
      "(658421, 63)\n"
     ]
    }
   ],
   "source": [
    "# Perform inner join on df_merged and df_crash_vehicle_types\n",
    "\n",
    "# Added Count_Crashes as it is a shared column with current merged dataset (locations, demographics) and vehicle types\n",
    "key_columns = ['Crash_Year', \n",
    "               'Crash_Police_Region', \n",
    "               'Crash_Severity', \n",
    "               'Count_Casualty_All',\n",
    "               'Count_Casualty_Fatality', \n",
    "               'Count_Casualty_Hospitalised', \n",
    "               'Count_Casualty_MedicallyTreated', \n",
    "               'Count_Casualty_MinorInjury',\n",
    "               'Count_Crashes']\n",
    "\n",
    "print(df_merged.shape)\n",
    "print(df_vehicle_types.shape)\n",
    "\n",
    "df_merged = pd.merge(df_merged, df_vehicle_types, on=key_columns, how='inner')\n",
    "\n",
    "print(df_merged.shape)"
   ]
  },
  {
   "cell_type": "code",
   "execution_count": 20,
   "metadata": {},
   "outputs": [
    {
     "data": {
      "text/plain": [
       "Index(['Crash_Ref_Number', 'Crash_Severity', 'Crash_Year', 'Crash_Month',\n",
       "       'Crash_Day_Of_Week', 'Crash_Hour', 'Crash_Nature', 'Crash_Type',\n",
       "       'Crash_Longitude', 'Crash_Latitude', 'Crash_Street',\n",
       "       'Crash_Street_Intersecting', 'State_Road_Name', 'Loc_Suburb',\n",
       "       'Loc_Local_Government_Area', 'Loc_Post_Code', 'Loc_Police_Division',\n",
       "       'Loc_Police_District', 'Crash_Police_Region',\n",
       "       'Loc_Queensland_Transport_Region', 'Loc_Main_Roads_Region',\n",
       "       'Loc_ABS_Statistical_Area_2', 'Loc_ABS_Statistical_Area_3',\n",
       "       'Loc_ABS_Statistical_Area_4', 'Loc_ABS_Remoteness',\n",
       "       'Loc_State_Electorate', 'Loc_Federal_Electorate',\n",
       "       'Crash_Controlling_Authority', 'Crash_Roadway_Feature',\n",
       "       'Crash_Traffic_Control', 'Crash_Speed_Limit',\n",
       "       'Crash_Road_Surface_Condition', 'Crash_Atmospheric_Condition',\n",
       "       'Crash_Lighting_Condition', 'Crash_Road_Horiz_Align',\n",
       "       'Crash_Road_Vert_Align', 'Crash_DCA_Code', 'Crash_DCA_Description',\n",
       "       'Crash_DCA_Group_Description', 'DCA_Key_Approach_Dir',\n",
       "       'Count_Casualty_Fatality', 'Count_Casualty_Hospitalised',\n",
       "       'Count_Casualty_MedicallyTreated', 'Count_Casualty_MinorInjury',\n",
       "       'Count_Casualty_All', 'Count_Unit_Car', 'Count_Unit_Motorcycle_Moped',\n",
       "       'Count_Unit_Truck', 'Count_Unit_Bus', 'Count_Unit_Bicycle',\n",
       "       'Count_Unit_Pedestrian', 'Count_Unit_Other', 'Involving_Male_Driver',\n",
       "       'Involving_Female_Driver', 'Involving_Young_Driver_16-24',\n",
       "       'Involving_Senior_Driver_60plus', 'Involving_Provisional_Driver',\n",
       "       'Involving_Overseas_Licensed_Driver', 'Involving_Unlicensed_Driver',\n",
       "       'Count_Crashes', 'Involving_Motorcycle_Moped', 'Involving_Truck',\n",
       "       'Involving_Bus'],\n",
       "      dtype='object')"
      ]
     },
     "execution_count": 20,
     "metadata": {},
     "output_type": "execute_result"
    }
   ],
   "source": [
    "df_merged.columns"
   ]
  },
  {
   "cell_type": "code",
   "execution_count": 21,
   "metadata": {},
   "outputs": [
    {
     "name": "stdout",
     "output_type": "stream",
     "text": [
      "(658421, 63)\n",
      "(4799, 13)\n",
      "(704155, 67)\n"
     ]
    }
   ],
   "source": [
    "# Perform inner join on df_merged and df_crash_factors\n",
    "print(df_merged.shape)\n",
    "print(df_factors_renamed.shape)\n",
    "\n",
    "df_merged = pd.merge(df_merged, df_factors_renamed, on=key_columns, how='inner')\n",
    "\n",
    "print(df_merged.shape)"
   ]
  },
  {
   "cell_type": "code",
   "execution_count": 22,
   "metadata": {},
   "outputs": [
    {
     "data": {
      "text/plain": [
       "Index(['Crash_Ref_Number', 'Crash_Severity', 'Crash_Year', 'Crash_Month',\n",
       "       'Crash_Day_Of_Week', 'Crash_Hour', 'Crash_Nature', 'Crash_Type',\n",
       "       'Crash_Longitude', 'Crash_Latitude', 'Crash_Street',\n",
       "       'Crash_Street_Intersecting', 'State_Road_Name', 'Loc_Suburb',\n",
       "       'Loc_Local_Government_Area', 'Loc_Post_Code', 'Loc_Police_Division',\n",
       "       'Loc_Police_District', 'Crash_Police_Region',\n",
       "       'Loc_Queensland_Transport_Region', 'Loc_Main_Roads_Region',\n",
       "       'Loc_ABS_Statistical_Area_2', 'Loc_ABS_Statistical_Area_3',\n",
       "       'Loc_ABS_Statistical_Area_4', 'Loc_ABS_Remoteness',\n",
       "       'Loc_State_Electorate', 'Loc_Federal_Electorate',\n",
       "       'Crash_Controlling_Authority', 'Crash_Roadway_Feature',\n",
       "       'Crash_Traffic_Control', 'Crash_Speed_Limit',\n",
       "       'Crash_Road_Surface_Condition', 'Crash_Atmospheric_Condition',\n",
       "       'Crash_Lighting_Condition', 'Crash_Road_Horiz_Align',\n",
       "       'Crash_Road_Vert_Align', 'Crash_DCA_Code', 'Crash_DCA_Description',\n",
       "       'Crash_DCA_Group_Description', 'DCA_Key_Approach_Dir',\n",
       "       'Count_Casualty_Fatality', 'Count_Casualty_Hospitalised',\n",
       "       'Count_Casualty_MedicallyTreated', 'Count_Casualty_MinorInjury',\n",
       "       'Count_Casualty_All', 'Count_Unit_Car', 'Count_Unit_Motorcycle_Moped',\n",
       "       'Count_Unit_Truck', 'Count_Unit_Bus', 'Count_Unit_Bicycle',\n",
       "       'Count_Unit_Pedestrian', 'Count_Unit_Other', 'Involving_Male_Driver',\n",
       "       'Involving_Female_Driver', 'Involving_Young_Driver_16-24',\n",
       "       'Involving_Senior_Driver_60plus', 'Involving_Provisional_Driver',\n",
       "       'Involving_Overseas_Licensed_Driver', 'Involving_Unlicensed_Driver',\n",
       "       'Count_Crashes', 'Involving_Motorcycle_Moped', 'Involving_Truck',\n",
       "       'Involving_Bus', 'Involving_Drink_Driving', 'Involving_Driver_Speed',\n",
       "       'Involving_Fatigued_Driver', 'Involving_Defective_Vehicle'],\n",
       "      dtype='object')"
      ]
     },
     "execution_count": 22,
     "metadata": {},
     "output_type": "execute_result"
    }
   ],
   "source": [
    "df_merged.columns"
   ]
  },
  {
   "attachments": {},
   "cell_type": "markdown",
   "metadata": {},
   "source": [
    "The resulting dataset contains over 700k rows and 67 columns. Depending on the following machine learning / deep learning models to be used, you may have to remove duplicates.\n",
    "\n",
    "__NOTE__. Removal of duplicates results in an extremely small dataset, which does not reflect the real world data.\n",
    " \n",
    "In other words, you would expect crashes to have similar characteristics most of the time, therefore duplicates make sense in this regard."
   ]
  },
  {
   "cell_type": "code",
   "execution_count": 23,
   "metadata": {},
   "outputs": [
    {
     "name": "stdout",
     "output_type": "stream",
     "text": [
      "(704155, 67)\n",
      "(224, 67)\n"
     ]
    }
   ],
   "source": [
    "df_merged_deduplicated = df_merged.drop_duplicates(subset = key_columns)\n",
    "\n",
    "print(df_merged.shape)\n",
    "print(df_merged_deduplicated.shape)"
   ]
  },
  {
   "attachments": {},
   "cell_type": "markdown",
   "metadata": {},
   "source": [
    "According to the above, there are only 224 unique instances of crashes, when the key columns are concerned. As a refresher, these were the key columns:\n",
    "\n",
    "    Crash_Year\n",
    "    Crash_Police_Region\n",
    "    Crash_Severity\n",
    "    Count_Casualty_All\n",
    "    Count_Casualty_Fatality\n",
    "    Count_Casualty_Hospitalised\n",
    "    Count_Casualty_MedicallyTreated\n",
    "    Count_Casualty_MinorInjury\n",
    "    Count_Crashes\n",
    "\n",
    "This suggests that there are only 224 unique combinations of the variables above.\n",
    "\n",
    "Again, these columns were chosen because they were shared across the datasets and thus facilitated merging.\n",
    "\n",
    "For the purposes of this notebook, only the dataset with duplicates will be considered.\n"
   ]
  },
  {
   "attachments": {},
   "cell_type": "markdown",
   "metadata": {},
   "source": [
    "# Merged Dataset Preprocessing"
   ]
  },
  {
   "attachments": {},
   "cell_type": "markdown",
   "metadata": {},
   "source": [
    "Currently, we are dealing with a dataset with 704155 rows and 67 columns. "
   ]
  },
  {
   "cell_type": "code",
   "execution_count": 24,
   "metadata": {},
   "outputs": [
    {
     "name": "stdout",
     "output_type": "stream",
     "text": [
      "<class 'pandas.core.frame.DataFrame'>\n",
      "Int64Index: 704155 entries, 0 to 704154\n",
      "Data columns (total 67 columns):\n",
      " #   Column                              Non-Null Count   Dtype  \n",
      "---  ------                              --------------   -----  \n",
      " 0   Crash_Ref_Number                    704155 non-null  int64  \n",
      " 1   Crash_Severity                      704155 non-null  object \n",
      " 2   Crash_Year                          704155 non-null  int64  \n",
      " 3   Crash_Month                         704155 non-null  object \n",
      " 4   Crash_Day_Of_Week                   704155 non-null  object \n",
      " 5   Crash_Hour                          704155 non-null  int64  \n",
      " 6   Crash_Nature                        704155 non-null  object \n",
      " 7   Crash_Type                          704155 non-null  object \n",
      " 8   Crash_Longitude                     704155 non-null  float64\n",
      " 9   Crash_Latitude                      704155 non-null  float64\n",
      " 10  Crash_Street                        704150 non-null  object \n",
      " 11  Crash_Street_Intersecting           304121 non-null  object \n",
      " 12  State_Road_Name                     306561 non-null  object \n",
      " 13  Loc_Suburb                          704155 non-null  object \n",
      " 14  Loc_Local_Government_Area           704155 non-null  object \n",
      " 15  Loc_Post_Code                       704155 non-null  object \n",
      " 16  Loc_Police_Division                 704155 non-null  object \n",
      " 17  Loc_Police_District                 704155 non-null  object \n",
      " 18  Crash_Police_Region                 704155 non-null  object \n",
      " 19  Loc_Queensland_Transport_Region     704155 non-null  object \n",
      " 20  Loc_Main_Roads_Region               704155 non-null  object \n",
      " 21  Loc_ABS_Statistical_Area_2          704155 non-null  object \n",
      " 22  Loc_ABS_Statistical_Area_3          704155 non-null  object \n",
      " 23  Loc_ABS_Statistical_Area_4          704155 non-null  object \n",
      " 24  Loc_ABS_Remoteness                  704155 non-null  object \n",
      " 25  Loc_State_Electorate                704155 non-null  object \n",
      " 26  Loc_Federal_Electorate              704155 non-null  object \n",
      " 27  Crash_Controlling_Authority         704155 non-null  object \n",
      " 28  Crash_Roadway_Feature               704155 non-null  object \n",
      " 29  Crash_Traffic_Control               704155 non-null  object \n",
      " 30  Crash_Speed_Limit                   704155 non-null  object \n",
      " 31  Crash_Road_Surface_Condition        704155 non-null  object \n",
      " 32  Crash_Atmospheric_Condition         704155 non-null  object \n",
      " 33  Crash_Lighting_Condition            704155 non-null  object \n",
      " 34  Crash_Road_Horiz_Align              704155 non-null  object \n",
      " 35  Crash_Road_Vert_Align               704141 non-null  object \n",
      " 36  Crash_DCA_Code                      704139 non-null  float64\n",
      " 37  Crash_DCA_Description               704139 non-null  object \n",
      " 38  Crash_DCA_Group_Description         704155 non-null  object \n",
      " 39  DCA_Key_Approach_Dir                693675 non-null  object \n",
      " 40  Count_Casualty_Fatality             704155 non-null  int64  \n",
      " 41  Count_Casualty_Hospitalised         704155 non-null  int64  \n",
      " 42  Count_Casualty_MedicallyTreated     704155 non-null  int64  \n",
      " 43  Count_Casualty_MinorInjury          704155 non-null  int64  \n",
      " 44  Count_Casualty_All                  704155 non-null  int64  \n",
      " 45  Count_Unit_Car                      704155 non-null  int64  \n",
      " 46  Count_Unit_Motorcycle_Moped         704155 non-null  int64  \n",
      " 47  Count_Unit_Truck                    704155 non-null  int64  \n",
      " 48  Count_Unit_Bus                      704155 non-null  int64  \n",
      " 49  Count_Unit_Bicycle                  704155 non-null  int64  \n",
      " 50  Count_Unit_Pedestrian               704155 non-null  int64  \n",
      " 51  Count_Unit_Other                    704155 non-null  int64  \n",
      " 52  Involving_Male_Driver               704155 non-null  object \n",
      " 53  Involving_Female_Driver             704155 non-null  object \n",
      " 54  Involving_Young_Driver_16-24        704155 non-null  object \n",
      " 55  Involving_Senior_Driver_60plus      704155 non-null  object \n",
      " 56  Involving_Provisional_Driver        704155 non-null  object \n",
      " 57  Involving_Overseas_Licensed_Driver  704155 non-null  object \n",
      " 58  Involving_Unlicensed_Driver         704155 non-null  object \n",
      " 59  Count_Crashes                       704155 non-null  int64  \n",
      " 60  Involving_Motorcycle_Moped          704155 non-null  object \n",
      " 61  Involving_Truck                     704155 non-null  object \n",
      " 62  Involving_Bus                       704155 non-null  object \n",
      " 63  Involving_Drink_Driving             704155 non-null  object \n",
      " 64  Involving_Driver_Speed              704155 non-null  object \n",
      " 65  Involving_Fatigued_Driver           704155 non-null  object \n",
      " 66  Involving_Defective_Vehicle         704155 non-null  object \n",
      "dtypes: float64(3), int64(16), object(48)\n",
      "memory usage: 365.3+ MB\n"
     ]
    }
   ],
   "source": [
    "df_merged.info()"
   ]
  },
  {
   "attachments": {},
   "cell_type": "markdown",
   "metadata": {},
   "source": [
    "Inspecting missing values"
   ]
  },
  {
   "cell_type": "code",
   "execution_count": 25,
   "metadata": {},
   "outputs": [
    {
     "name": "stdout",
     "output_type": "stream",
     "text": [
      "Crash_Ref_Number                           0\n",
      "Crash_Severity                             0\n",
      "Crash_Year                                 0\n",
      "Crash_Month                                0\n",
      "Crash_Day_Of_Week                          0\n",
      "Crash_Hour                                 0\n",
      "Crash_Nature                               0\n",
      "Crash_Type                                 0\n",
      "Crash_Longitude                            0\n",
      "Crash_Latitude                             0\n",
      "Crash_Street                               5\n",
      "Crash_Street_Intersecting             400034\n",
      "State_Road_Name                       397594\n",
      "Loc_Suburb                                 0\n",
      "Loc_Local_Government_Area                  0\n",
      "Loc_Post_Code                              0\n",
      "Loc_Police_Division                        0\n",
      "Loc_Police_District                        0\n",
      "Crash_Police_Region                        0\n",
      "Loc_Queensland_Transport_Region            0\n",
      "Loc_Main_Roads_Region                      0\n",
      "Loc_ABS_Statistical_Area_2                 0\n",
      "Loc_ABS_Statistical_Area_3                 0\n",
      "Loc_ABS_Statistical_Area_4                 0\n",
      "Loc_ABS_Remoteness                         0\n",
      "Loc_State_Electorate                       0\n",
      "Loc_Federal_Electorate                     0\n",
      "Crash_Controlling_Authority                0\n",
      "Crash_Roadway_Feature                      0\n",
      "Crash_Traffic_Control                      0\n",
      "Crash_Speed_Limit                          0\n",
      "Crash_Road_Surface_Condition               0\n",
      "Crash_Atmospheric_Condition                0\n",
      "Crash_Lighting_Condition                   0\n",
      "Crash_Road_Horiz_Align                     0\n",
      "Crash_Road_Vert_Align                     14\n",
      "Crash_DCA_Code                            16\n",
      "Crash_DCA_Description                     16\n",
      "Crash_DCA_Group_Description                0\n",
      "DCA_Key_Approach_Dir                   10480\n",
      "Count_Casualty_Fatality                    0\n",
      "Count_Casualty_Hospitalised                0\n",
      "Count_Casualty_MedicallyTreated            0\n",
      "Count_Casualty_MinorInjury                 0\n",
      "Count_Casualty_All                         0\n",
      "Count_Unit_Car                             0\n",
      "Count_Unit_Motorcycle_Moped                0\n",
      "Count_Unit_Truck                           0\n",
      "Count_Unit_Bus                             0\n",
      "Count_Unit_Bicycle                         0\n",
      "Count_Unit_Pedestrian                      0\n",
      "Count_Unit_Other                           0\n",
      "Involving_Male_Driver                      0\n",
      "Involving_Female_Driver                    0\n",
      "Involving_Young_Driver_16-24               0\n",
      "Involving_Senior_Driver_60plus             0\n",
      "Involving_Provisional_Driver               0\n",
      "Involving_Overseas_Licensed_Driver         0\n",
      "Involving_Unlicensed_Driver                0\n",
      "Count_Crashes                              0\n",
      "Involving_Motorcycle_Moped                 0\n",
      "Involving_Truck                            0\n",
      "Involving_Bus                              0\n",
      "Involving_Drink_Driving                    0\n",
      "Involving_Driver_Speed                     0\n",
      "Involving_Fatigued_Driver                  0\n",
      "Involving_Defective_Vehicle                0\n",
      "dtype: int64\n"
     ]
    }
   ],
   "source": [
    "# Set the display option to show all rows\n",
    "pd.set_option('display.max_rows', None)\n",
    "\n",
    "# Display the entire output\n",
    "print(df_merged.isna().sum())\n",
    "\n",
    "# Reset the display option to its default value\n",
    "pd.set_option('display.max_rows', 10)\n"
   ]
  },
  {
   "attachments": {},
   "cell_type": "markdown",
   "metadata": {},
   "source": [
    "We can see that a large amount of values are missing for:\n",
    "\n",
    "    Crash_Street_Intersecting: 400034\n",
    "    State_Road_Name: 397594\n",
    "\n",
    "And to a lesser extent:\n",
    "\n",
    "    DCA_Key_Approach_Dir: 10480\n",
    "\n",
    "With the least amount for:\n",
    "\n",
    "    Crash_Road_Vert_Align: 14\n",
    "    Crash_DCA_Code: 16\n",
    "    Crash_DCA_Description: 16\n"
   ]
  },
  {
   "attachments": {},
   "cell_type": "markdown",
   "metadata": {},
   "source": [
    "To start with, the most straightforward preprocessing step to conduct first is to simply drop the rows where Crash_Road_Vert_Align, Crash_DCA_Code, and Crash_DCA_Description have missing values.\n",
    "\n",
    "These rows were dropped because there is not a significant amount of information lost from their removal, especially when you consider that there are over 700k rows in the dataset."
   ]
  },
  {
   "cell_type": "code",
   "execution_count": 26,
   "metadata": {},
   "outputs": [
    {
     "name": "stdout",
     "output_type": "stream",
     "text": [
      "(704155, 67)\n",
      "(704125, 67)\n"
     ]
    }
   ],
   "source": [
    "# Drop rows with missing values in specified columns\n",
    "df_merged_nans_dropped = df_merged.dropna(subset=['Crash_Road_Vert_Align', 'Crash_DCA_Code', 'Crash_DCA_Description'])\n",
    "\n",
    "print(df_merged.shape)\n",
    "print(df_merged_nans_dropped.shape)"
   ]
  },
  {
   "attachments": {},
   "cell_type": "markdown",
   "metadata": {},
   "source": [
    "For the 3 variables with significant amounts of NaNs, further exploration shall be done to determine the best method to address them."
   ]
  },
  {
   "attachments": {},
   "cell_type": "markdown",
   "metadata": {},
   "source": [
    "We'll start by looking at the unique values in each column"
   ]
  },
  {
   "cell_type": "code",
   "execution_count": 27,
   "metadata": {},
   "outputs": [
    {
     "data": {
      "text/plain": [
       "array([nan, 'Grenadier Ct', 'Signata St', ..., 'Goorawin St',\n",
       "       'Links Ave South', 'Gateway Art Rd Ramp Xi'], dtype=object)"
      ]
     },
     "execution_count": 27,
     "metadata": {},
     "output_type": "execute_result"
    }
   ],
   "source": [
    "df_merged['Crash_Street_Intersecting'].unique()\n"
   ]
  },
  {
   "cell_type": "code",
   "execution_count": 28,
   "metadata": {},
   "outputs": [
    {
     "data": {
      "text/plain": [
       "array([nan, 'Mount Lindesay Arterial Road', 'Griffith Arterial Road',\n",
       "       'Cunningham Arterial Road (Ipswich Motorway)',\n",
       "       'South-East Arterial Road (Pacific Motorway)',\n",
       "       'Western Arterial Road (Toowong - Everton Park)',\n",
       "       'Moggill Sub-Arterial Road',\n",
       "       'Centenary Motorway (Ellen Grove - Toowong)',\n",
       "       'Gateway Motorway (Eight Mile Plains - Nudgee)',\n",
       "       'Gympie Arterial Road', 'Redcliffe Sub-Arterial Road',\n",
       "       'Gateway Arterial Road (Gateway Motorway - North)',\n",
       "       'East-West Arterial Road', 'Redland Sub-Arterial Road',\n",
       "       'Gateway Extension Motorway (Drewvale - Eight Mile Plains)',\n",
       "       'Logan Sub-Arterial Road',\n",
       "       'South East Busway (Brisbane Cbd - Woolloongabba)',\n",
       "       'Port Of Brisbane Road', 'Sandgate Sub-Arterial Road',\n",
       "       'Albany Creek Sub-Arterial Road', 'South Pine Road',\n",
       "       'Cleveland - Redland Bay Road', 'Beenleigh - Redland Bay Road',\n",
       "       'Brighton - Redcliffe Road', 'Birkdale Road',\n",
       "       'Brisbane - Redland Road', 'Capalaba - Cleveland Road',\n",
       "       'Mount Cotton Road', 'Cleveland Sub-Arterial Road',\n",
       "       'Capalaba - Victoria Point Road', 'Southern Cross Way',\n",
       "       'Samford Sub-Arterial Road', 'Mount Glorious Road',\n",
       "       'Samford - Mount Glorious Road', 'Samford Road',\n",
       "       'Everton Park - Albany Creek Road',\n",
       "       'Logan Motorway (Gailes - Loganholme)', 'Mount Crosby Road',\n",
       "       'Strathpine Sub-Arterial Road', 'Strathpine - Samford Road',\n",
       "       'Redland Bay Road', 'Colburn Avenue', 'East Coast Road',\n",
       "       'Port Of Brisbane Motorway', 'Nathan Connection Arterial Road',\n",
       "       'Pacific Highway (Pacific Motorway)',\n",
       "       'Mount Lindesay Highway (Brisbane - Beaudesert)',\n",
       "       'Brisbane - Woodford Road',\n",
       "       'Cunningham Highway (Ipswich Motorway)',\n",
       "       'Linkfield Connection Road', 'Springwood Connection Road',\n",
       "       'South East Busway (Woolloongabba - Springwood)',\n",
       "       'Inner Northern Busway (City - Petrie Terrace)', 'Northern Busway',\n",
       "       'Eastern Busway',\n",
       "       'Inner Northern Busway (Petrie Terrace - Bowen Hills)',\n",
       "       'Mount Lindesay Highway (Beaudesert - Border)',\n",
       "       'Beaudesert - Beenleigh Road', 'Stapylton - Jacobs Well Road',\n",
       "       'Waterford - Tamborine Road', 'Beenleigh Connection Road',\n",
       "       'Brisbane - Beenleigh Road', 'Pacific Highway Connection Road',\n",
       "       'Nerang - Broadbeach Road', 'Southport - Burleigh Road',\n",
       "       'Gold Coast Highway (Broadbeach - Coolangatta)',\n",
       "       'Beaudesert - Nerang Road', 'Tamborine Mountain Road',\n",
       "       'Currumbin Creek Road', 'Tamborine - Oxenford Road',\n",
       "       'Hope Island Road', 'Beechmont Road',\n",
       "       'Oxenford - Coomera Gorge Road', 'Tamborine - Nerang Road',\n",
       "       'Nerang - Murwillumbah Road', 'Boonah - Rathdowney Road',\n",
       "       'Running Creek Road', 'Labrador - Carrara Road',\n",
       "       'Southport - Nerang Road', 'Smith Street Connection',\n",
       "       'Gold Coast Highway (Helensvale - Southport)',\n",
       "       'Heart Of The City 1', 'Heart Of The City 2',\n",
       "       'Gold Coast - Springbrook Road', 'Advancetown - Mudgeeraba Road',\n",
       "       'Springbrook Road', 'Camp Cable Road',\n",
       "       'Currumbin Creek - Tomewin Road', 'Burleigh Connection Road',\n",
       "       'Mundoolun Connection Road', 'Lamington National Park Road',\n",
       "       'Warrego Highway (Ipswich - Toowoomba)',\n",
       "       'Ipswich - Cunningham Hwy Connection Road',\n",
       "       'Ipswich - Warrego Hwy Connection Road', 'Swanbank Road',\n",
       "       'Karrabin - Rosewood Road',\n",
       "       'Cunningham Highway (Ipswich - Warwick)',\n",
       "       'Centenary Motorway (Yamanto - Ellen Grove)', 'River Road',\n",
       "       'Forest Hill - Fernvale Road',\n",
       "       'Brisbane Valley Highway (Ipswich - Harlin)',\n",
       "       'Wivenhoe - Somerset Road', 'Beaudesert - Boonah Road',\n",
       "       'Ipswich - Boonah Road', 'Esk - Hampton Road',\n",
       "       'Rosewood - Laidley Road', 'Ipswich - Rosewood Road',\n",
       "       'Toowoomba Connection Road', 'Gatton - Helidon Road',\n",
       "       \"Murphy'S Creek Road\", 'Laidley - Plainland Road',\n",
       "       'Gatton - Laidley Road', 'Gatton-Esk Road',\n",
       "       \"D'Aguilar Highway (Kilcoy - Yarraman)\",\n",
       "       'Bunya Highway (Dalby - Kingaroy)',\n",
       "       \"D'Aguilar Highway (Yarraman - Kingaroy)\",\n",
       "       'Bunya Highway (Kingaroy - Goomeri)', 'Kingaroy - Cooyar Road',\n",
       "       'Burnett Highway (Nanango - Goomeri)', 'Nanango - Tarong Road',\n",
       "       'Chinchilla - Wondai Road', 'Okeden Road',\n",
       "       'New England Highway (Yarraman - Toowoomba)',\n",
       "       'Toowoomba - Cecil Plains Road',\n",
       "       'New England Highway (Toowoomba - Warwick)',\n",
       "       'Charlton Connection Road', 'Warwick - Allora Road',\n",
       "       'Moonie Highway (Dalby - St George)', 'Felton - Clifton Road',\n",
       "       'Clifton - Leyburn Road',\n",
       "       'Cunningham Highway (Inglewood - Goondiwindi)',\n",
       "       'Cunningham Highway (Warwick - Inglewood)',\n",
       "       'Gore Highway (Toowoomba - Millmerran)',\n",
       "       'Pittsworth - Felton Road', 'Stanthorpe Connection Road',\n",
       "       'Stanthorpe - Texas Road',\n",
       "       'Leichhardt Highway (Miles - Goondiwindi)',\n",
       "       'Barwon Highway (Talwood - Nindigully)',\n",
       "       'Barwon Highway (Goondiwindi - Talwood)', 'Inglewood - Texas Road',\n",
       "       'Oakey Connection Road', 'Warrego Highway (Toowoomba - Dalby)',\n",
       "       'Pechey - Maclagan Road', 'Oakey - Pittsworth Road',\n",
       "       'Drayton Connection Road', 'Warrego Highway (Dalby - Miles)',\n",
       "       'Bunya Mountains Road', 'Dalby - Cecil Plains Road', 'Auburn Road',\n",
       "       'Stanthorpe - Inglewood Road',\n",
       "       'Gore Highway (Millmerran - Goondiwindi)', 'Freestone Road',\n",
       "       'New England Highway (Warwick - Wallangarra)', 'Spring Creek Road',\n",
       "       'Millmerran - Cecil Plains Road', 'Warrego Highway (Miles - Roma)',\n",
       "       'Warrego Highway (Roma - Mitchell)',\n",
       "       'Carnarvon Highway (Surat - Roma)', 'Quilpie - Thargomindah Road',\n",
       "       'Landsborough Highway (Morven - Augathella)',\n",
       "       'Murgon - Gayndah Road',\n",
       "       'Mitchell Highway (Barringun - Cunnamulla)',\n",
       "       'Bulloo Developmental Road (Cunnamulla - Thargomindah)',\n",
       "       'Leichhardt Highway (Westwood - Taroom)',\n",
       "       'Leichhardt Highway (Taroom - Miles)', 'Esk - Kilcoy Road',\n",
       "       'Boonah - Fassifern Road', 'Warrill View - Peak Crossing Road',\n",
       "       'Rosewood - Marburg Road', 'Haigslea - Amberley Road',\n",
       "       'Rosewood - Warrill View Road', 'Mount Sylvia Road',\n",
       "       'Gatton - Clifton Road', \"Kingaroy - Barker'S Creek Road\",\n",
       "       'Toowoomba - Athol Road', 'Goondiwindi West Connection Road',\n",
       "       'Stanthorpe - Amosfield Road', 'Oakey - Cooyar Road',\n",
       "       'Toowoomba - Karara Road',\n",
       "       'Surat Developmental Road (Tara - Dalby)',\n",
       "       'Kingaroy - Jandowae Road', 'Warwick - Killarney Road',\n",
       "       'Millmerran - Inglewood Road', 'Carnarvon Highway (Roma - Injune)',\n",
       "       'Castlereagh Highway (St George - Hebel)',\n",
       "       'Balonne Highway (Bollon - Cunnamulla)', 'Blackall - Adavale Road',\n",
       "       'Diamantina Developmental Road (Quilpie - Windorah)',\n",
       "       'Diamantina Developmental Road (Charleville - Quilpie)',\n",
       "       'Landsborough Highway (Augathella - Tambo)',\n",
       "       'Mitchell Highway (Charleville - Augathella)',\n",
       "       'Wondai - Proston Road', 'Bruce Highway (Brisbane - Gympie)',\n",
       "       'Burpengary - Caboolture Road', 'Caboolture Connection Road',\n",
       "       'Caboolture - Bribie Island Road', 'Beerburrum Road',\n",
       "       'Burpengary Service Road',\n",
       "       \"D'Aguilar Highway (Caboolture - Kilcoy)\",\n",
       "       'Caboolture - Beachmere Road', 'Redcliffe Road',\n",
       "       'Deception Bay Road', 'Clontarf - Anzac Avenue Road',\n",
       "       'Nicklin Way', 'Caloundra Road', 'Yandina - Coolum Road',\n",
       "       'Sunshine Motorway (Mooloolaba - Peregian)',\n",
       "       'Pacific Paradise Connection Road', 'Maroochydore - Noosa Road',\n",
       "       'Emu Mountain Road', 'Cooroy - Gympie Road',\n",
       "       'Eumundi - Kenilworth Road', 'Eumundi - Noosa Road',\n",
       "       'Kenilworth - Skyring Creek Road', 'Maleny - Kenilworth Road',\n",
       "       'Obi Obi Road', 'Glasshouse Mountains Road',\n",
       "       'Landsborough - Maleny Road', 'Maleny - Montville Road',\n",
       "       'Maroochydore Road', 'Mooloolaba Road',\n",
       "       'Maroochydore - Mooloolaba Road',\n",
       "       'Sunshine Motorway (Tanawha - Mooloolaba)',\n",
       "       'Nambour Connection Road', 'Nambour - Bli Bli Road',\n",
       "       'Nambour - Mapleton Road', 'Yandina - Bli Bli Road',\n",
       "       'Montville - Mapleton Road', 'Boreen Point-Tewantin Road',\n",
       "       'Woombye - Montville Road', 'Kin Kin Road', 'Boreen Road',\n",
       "       'Cooroy - Noosa Road', 'Maleny - Stanley River Road',\n",
       "       'Kilcoy - Beerwah Road', 'Bundaberg - Bargara Road',\n",
       "       'Burnett Heads Road', 'Bundaberg - Port Road',\n",
       "       'Elliott Heads Road', 'Boompa Road', 'Bundaberg - Gin Gin Road',\n",
       "       'Isis Highway (Bundaberg - Childers)', 'Goodwood Road',\n",
       "       'Moore Park Road', 'Bruce Highway (Maryborough - Gin Gin)',\n",
       "       'Isis Highway (Childers - Biggenden)',\n",
       "       'Gin Gin - Mount Perry Road', 'Bruce Highway (Gin Gin - Benaraby)',\n",
       "       'Burnett Highway (Goomeri - Gayndah)', 'Tin Can Bay Road',\n",
       "       'Gympie Connection Road', 'Gympie - Woolooga Road',\n",
       "       'Bruce Highway (Gympie - Maryborough)',\n",
       "       'Maryborough - Hervey Bay Road', 'Pialba - Burrum Heads Road',\n",
       "       'Booral Road', 'Torbanlea - Pialba Road',\n",
       "       'Kenilworth - Brooloo Road', 'Gympie - Brooloo Road',\n",
       "       'Maryborough - Cooloola Road', 'Maryborough - Biggenden Road',\n",
       "       'Burnett Highway (Gayndah - Monto)', 'Gayndah - Mount Perry Road',\n",
       "       'Bundaberg - Miriam Vale Road', 'Rainbow Beach Road',\n",
       "       'Pumicestone Road', 'Mooloolah Connection Road',\n",
       "       'Forest Glen Road', 'Palmwoods - Mooloolah Road',\n",
       "       'Isis Highway (Biggenden - Coalstoun Lakes)',\n",
       "       'Gooroolba - Biggenden Road', 'Burnett Highway (Monto - Biloela)',\n",
       "       'Monto - Mount Perry Road', 'Mundubbera - Durong Road',\n",
       "       'Bauple - Woolooga Road', 'Cooroy Connection Road',\n",
       "       'Kilcoy - Murgon Road', 'Kawana Way',\n",
       "       'Yandina South Connection Road',\n",
       "       'Wide Bay Highway (Gympie - Goomeri)',\n",
       "       'Yandina North Connection Road', 'Burrum Heads Road',\n",
       "       'The Cedars Road', 'Tugun - Currumbin Road',\n",
       "       'Nerang Connection Road', 'Tallebudgera Creek Road',\n",
       "       'Tallebudgera Connection Road', 'Binna Burra Road',\n",
       "       'Eidsvold - Theodore Road', 'Kilkivan - Tansey Road',\n",
       "       'Brooweena - Woolooga Road', 'Mungar Road', 'Miva Road',\n",
       "       'Bundaberg Ring Road', 'Yabba Creek Road', 'Mary Valley Link Road',\n",
       "       'Gladstone - Monto Road', 'Booyal - Dallarnil Road',\n",
       "       'Pomona Connection Road', 'Caloundra - Mooloolaba Road',\n",
       "       'Bells Creek Arterial Road',\n",
       "       'Airport Link (Bowen Hills - Toombul)', 'V1 Cycleway',\n",
       "       'Port Drive', 'Airport Link Tunnel', 'Kalbar Connection Road',\n",
       "       'Mulgowie Road', 'Talwood - Boonanga Road',\n",
       "       'Jackson - Wandoan Road', 'Dalby - Cooyar Road',\n",
       "       'Surat Developmental Road (Surat - Tara)',\n",
       "       'Condamine - Meandarra Road', 'Warra - Kogan Road',\n",
       "       'Mitchell - St George Road',\n",
       "       'Carnarvon Highway (Mungindi - St George)',\n",
       "       'Mitchell Highway (Cunnamulla - Charleville)',\n",
       "       'Coominya Connection Road', 'Pampas - Horrane Road',\n",
       "       'Texas - Yelarbon Road', 'Carnarvon Highway (St George - Surat)',\n",
       "       'Proston - Boondooma Road', 'Dalrymple Creek Road',\n",
       "       'Roma - Taroom Road', 'Cambooya Connection Road',\n",
       "       'Warwick - Yangan Road', 'Yangan - Killarney Road',\n",
       "       'Warrego Highway (Mitchell - Morven)', 'Mount Alford Road',\n",
       "       'Kingaroy - Burrandowan Road', 'Leyburn - Cunningham Road',\n",
       "       'Brookstead - Norwin Road', 'Meandarra - Talwood Road',\n",
       "       'Dalby - Jandowae Road', 'Chinchilla - Tara Road',\n",
       "       'Millmerran - Leyburn Road',\n",
       "       'Balonne Highway (St George - Bollon)', 'Hungerford Road',\n",
       "       'Warrego Highway (Morven - Charleville)', 'Tara - Kogan Road',\n",
       "       'Kogan - Condamine Road', 'Bracker Road',\n",
       "       'Carnarvon Highway (Injune - Rolleston)',\n",
       "       'Cooper Developmental Road (Quilpie - Bundeena)', 'Hinze Dam Road',\n",
       "       'Amiens Road', 'Roma - Condamine Road', 'Ryeford - Pratten Road',\n",
       "       \"Carney'S Creek Road\", 'Roma - Southern Road',\n",
       "       'Murgon - Barambah Road', 'Riverview - Moggill Ferry Road',\n",
       "       'Toowoomba Second Range Crossing (Gore Highway)',\n",
       "       'Dalby - Kogan Road', 'Byee Road',\n",
       "       'Fitzroy Developmental Road (Taroom - Bauhinia)',\n",
       "       'Gold Coast Light Rail (Parklands - Broadbeach)',\n",
       "       'Dawson Highway (Gladstone - Biloela)',\n",
       "       'Dawson Highway (Biloela - Banana)',\n",
       "       'Capricorn Highway (Duaringa - Emerald)',\n",
       "       'Blackwater - Rolleston Road',\n",
       "       'Bruce Highway (Benaraby - Rockhampton)',\n",
       "       'Fitzroy Developmental Road (Bauhinia - Duaringa)',\n",
       "       'Fitzroy Developmental Road (Dingo - Mount Flora)',\n",
       "       'Capricorn Highway (Emerald - Alpha)',\n",
       "       'Capricorn Highway (Rockhampton - Duaringa)',\n",
       "       'Gregory Highway (Emerald - Clermont)',\n",
       "       'Western Yeppoon - Emu Park Road', 'Gladstone - Benaraby Road',\n",
       "       'Gladstone - Mount Larcom Road',\n",
       "       'Burnett Highway (Biloela - Mount Morgan)',\n",
       "       'Capricorn Highway (Alpha - Barcaldine)',\n",
       "       'Rockhampton - Yeppoon Road', 'Rockhampton - Emu Park Road',\n",
       "       'Bruce Highway (Rockhampton - St Lawrence)',\n",
       "       'Marlborough - Sarina Road', 'Dawson Highway (Banana - Rolleston)',\n",
       "       'Rockhampton - Ridgelands Road',\n",
       "       'Gregory Highway (Springsure - Emerald)',\n",
       "       'Dawson Developmental Road (Springsure - Tambo)',\n",
       "       'Landsborough Highway (Blackall - Barcaldine)',\n",
       "       'Landsborough Highway (Tambo - Blackall)',\n",
       "       'Landsborough Highway (Longreach - Winton)',\n",
       "       'Landsborough Highway (Winton - Kynuna)',\n",
       "       'Gregory - Cannon Valley Road', 'Proserpine - Shute Harbour Road',\n",
       "       'Bruce Highway (St Lawrence - Mackay)', 'Clermont - Alpha Road',\n",
       "       'Dysart - Middlemount Road', 'Peak Downs Highway (Nebo - Mackay)',\n",
       "       'Bruce Highway (Mackay - Proserpine)', 'Mackay - Bucasia Road',\n",
       "       'Mackay - Eungella Road',\n",
       "       'Suttor Developmental Road (Nebo - Mount Coolon)',\n",
       "       'Mackay - Slade Point Road', 'Glenella Connection Road',\n",
       "       'Maraju - Yakapari Road', 'Rockleigh - North Mackay Road',\n",
       "       'Mirani - Eton Road', 'Peak Downs Highway (Clermont - Nebo)',\n",
       "       'Bruce Highway (Proserpine - Bowen)', 'Sarina - Homebush Road',\n",
       "       'Hay Point Road', 'Bruce Highway (Bowen - Ayr)',\n",
       "       'Bowen Developmental Road (Bowen - Collinsville)',\n",
       "       'Bowen Developmental Road (Collinsville - Belyando Crossing)',\n",
       "       'Aramac - Torrens Creek Road', 'Muttaburra - Aramac Road',\n",
       "       'Burnett Highway (Mount Morgan - Rockhampton)',\n",
       "       'Boyne Island Road', 'Tannum Sands Road',\n",
       "       'Landsborough Highway (Barcaldine - Longreach)',\n",
       "       'Kennedy Developmental Road (Hughenden - Winton)',\n",
       "       'Mount Ossa - Seaforth Road', 'Yakapari - Habana Road',\n",
       "       'Yakapari - Seaforth Road', 'Mackay - Habana Road',\n",
       "       'Crystal Brook Road', 'St. Lawrence Connection Road',\n",
       "       'Biloela - Duaringa Road', 'Selma Road',\n",
       "       'Western Yeppoon - Byfield Road',\n",
       "       'Diamantina Developmental Road (Windorah - Bedourie)',\n",
       "       'Birdsville Developmental Road (Morney - Birdsville)',\n",
       "       'Mirani - Mount Ossa Road',\n",
       "       'Gregory Developmental Road (Clermont - Belyando Crossing)',\n",
       "       'Peak Downs - Dysart Road', 'Eimeo Road', 'Blue Mountain Road',\n",
       "       'Cotherstone Road', 'Eungella Dam Road', 'Marian - Eton Road',\n",
       "       'Marian - Hampden Road', 'Dawson Highway (Rolleston - Springsure)',\n",
       "       'Yan Yan Road', 'Anakie - Sapphire Road', 'Keppel Sands Road',\n",
       "       'Eton - Homebush Road', 'Homebush Road', 'Gargett - Mia Mia Road',\n",
       "       'Sarina - Coast Road', 'Collinsville - Elphinstone Road',\n",
       "       'German Creek Mine Road (519)',\n",
       "       'Thomson Developmental Road (Jundah - Longreach)',\n",
       "       'St Lawrence - Croydon Road (St Lawrence - Croyden Road)',\n",
       "       'Baralaba - Rannes Road', 'Bajool - Pt Alma Road',\n",
       "       'Gregory Developmental Road (Belyando Crossing - Charters Towers)',\n",
       "       'Ilfracombe - Aramac Road',\n",
       "       'Thomson Developmental Road (Windorah - Jundah)',\n",
       "       'Kennedy Developmental Road (Winton - Boulia)',\n",
       "       'Oxford Downs - Sarina Road', 'Biloela - Callide Road',\n",
       "       'Blackall - Jericho Road', 'Gavial - Gracemere Road',\n",
       "       'Richmond - Winton Road', 'Koumala - Bolingbroke Road',\n",
       "       'Blackwater - Cooroorah Road', 'Ogmore Connection Road',\n",
       "       'Gregory Highway (Clermont - Belyando Crossing)',\n",
       "       'North Eton Road', 'Hughenden - Muttaburra Road',\n",
       "       'Baralaba - Woorabinda Road', 'Isisford - Ilfracombe Road',\n",
       "       'Orion 10 Chain Road', 'Alpha - Tambo Road',\n",
       "       'Kilcummin - Diamond Downs Road', 'Mackay Ring Road',\n",
       "       'Bruce Highway (Ayr - Townsville)',\n",
       "       'Flinders Highway (Townsville - Charters Towers)',\n",
       "       'Gregory Developmental Road (Charters Towers - The Lynd)',\n",
       "       'Ingham - Halifax - Bemerside Road', 'Douglas - Garbutt Road',\n",
       "       'Garbutt - Upper Ross Road', 'Ross River Road',\n",
       "       'Hervey Range Developmental Road (Townsville - Battery)',\n",
       "       'Bruce Highway (Townsville - Ingham)',\n",
       "       'Townsville Connection Road',\n",
       "       'Flinders Highway (Charters Towers - Hughenden)',\n",
       "       'Angus Smith Drive Connection Road',\n",
       "       'Abbott Street Connection Road', 'South Townsville Road',\n",
       "       'North Townsville Road', 'Townsville Port Road', 'North Ward Road',\n",
       "       'Mount Spec Road', 'Barkly Highway (Cloncurry - Mount Isa)',\n",
       "       'Burke Developmental Road (Cloncurry - Normanton)',\n",
       "       'Diamantina Developmental Road (Dajarra - Mount Isa)',\n",
       "       'Flinders Highway (Hughenden - Richmond)',\n",
       "       'Flinders Highway (Julia Creek - Cloncurry)',\n",
       "       'Landsborough Highway (Kynuna - Cloncurry)',\n",
       "       'Barkly Highway (Mount Isa - Camooweal)',\n",
       "       'Burdekin Falls Dam Road', 'Ayr - Dalbeg Road',\n",
       "       'Ayr - Ravenswood Road', 'Ingham - Abergowrie Road',\n",
       "       'Stone River Road', 'Bruce Highway (Ingham - Innisfail)',\n",
       "       'Eyre Developmental Road (Bedourie - Birdsville)',\n",
       "       'Halifax - Lucinda Point Road', 'Home Hill - Kirknie Road',\n",
       "       'Kennedy Developmental Road (The Lynd - Hughenden)',\n",
       "       'Burke Developmental Road (Normanton - Dimbulah)',\n",
       "       'Woodstock - Giru Road', 'Gregory Downs - Camooweal Road',\n",
       "       'Mount Isa - Duchess Road',\n",
       "       'Diamantina Developmental Road (Bedourie - Boulia)',\n",
       "       'Julia Creek - Kynuna Road',\n",
       "       'Wills Developmental Road (Julia Creek - Burketown)',\n",
       "       'Cloncurry - Dajarra Road', 'Ingham - Forrest Beach Road',\n",
       "       'Barkly Highway (Camooweal - Border)',\n",
       "       'Flinders Highway (Richmond - Julia Creek)',\n",
       "       'Gulf Developmental Road (Normanton - Croydon)',\n",
       "       'Diamantina Developmental Road (Boulia - Dajarra)', 'Shaw Road',\n",
       "       'Kennedy Developmental Road (Mount Garnet - The Lynd)',\n",
       "       'Discovery Drive Connection Road', 'Gillies Range Road',\n",
       "       'Tinaroo Falls Dam Road', 'Kennedy Highway (Mareeba - Ravenshoe)',\n",
       "       'Kennedy Highway (Cairns - Mareeba)',\n",
       "       'Bruce Highway (Innisfail - Cairns)', 'Mulgrave Road',\n",
       "       'Cairns Western Arterial Road',\n",
       "       'Captain Cook Highway (Cairns - Mossman)', 'Anderson Street',\n",
       "       'Pine Creek - Yarrabah Road', 'El Arish - Mission Beach Road',\n",
       "       'Peninsula Developmental Road (Laura - Coen)',\n",
       "       'Mareeba - Dimbulah Road', 'Mossman - Mount Molloy Road',\n",
       "       'Mourilyan Harbour Road',\n",
       "       'Kennedy Highway (Mount Garnet - The Lynd)',\n",
       "       'Mulligan Highway (Mount Molloy - Lakeland)', 'Port Douglas Road',\n",
       "       'Innisfail - Japoon Road', 'Malanda - Atherton Road',\n",
       "       'Longlands Gap - Herberton Road', 'Herberton - Petford Road',\n",
       "       'Atherton - Herberton Road', 'Port Connection Road',\n",
       "       'Shiptons Flat Road',\n",
       "       'Gulf Developmental Road (Croydon - Georgetown)', 'Topaz Road',\n",
       "       'Millaa Millaa - Malanda Road',\n",
       "       'Mulligan Highway (Mareeba - Mount Molloy)',\n",
       "       'Mossman - Daintree Road', 'Beatrice Way', 'South Johnstone Road',\n",
       "       'Stratford Connection Road', 'South Mission Beach Road',\n",
       "       'Malanda - Lake Barrine Road', 'Tully - Mission Beach Road',\n",
       "       'Peninsula Developmental Road (Coen - Weipa)',\n",
       "       'Endeavour Valley Road', 'Mulligan Highway (Lakeland - Cooktown)',\n",
       "       'Gulf Developmental Road (Georgetown - Mount Garnet)',\n",
       "       'Palmerston Highway (Innisfail-Ravenshoe)',\n",
       "       'Kennedy Highway (Ravenshoe - Mount Garnet)',\n",
       "       'Peninsula Developmental Road (Lakeland - Laura)',\n",
       "       'Kurrimine Beach Road', 'Forsayth Road', 'Thursday Island Road',\n",
       "       'Tumoulin Road', 'Henderson Drive', 'East Evelyn Road',\n",
       "       'Malanda - Upper Barron Road', 'Tully - Hull Road',\n",
       "       'Gregory Developmental Road (The Lynd - Quartz Blow Creek)',\n",
       "       'Silkwood - Japoon Road', 'Davidson Road'], dtype=object)"
      ]
     },
     "execution_count": 28,
     "metadata": {},
     "output_type": "execute_result"
    }
   ],
   "source": [
    "df_merged_nans_dropped['State_Road_Name'].unique()"
   ]
  },
  {
   "cell_type": "code",
   "execution_count": 29,
   "metadata": {},
   "outputs": [
    {
     "data": {
      "text/plain": [
       "array(['S', 'N', 'W', 'E', nan, 'U'], dtype=object)"
      ]
     },
     "execution_count": 29,
     "metadata": {},
     "output_type": "execute_result"
    }
   ],
   "source": [
    "df_merged_nans_dropped['DCA_Key_Approach_Dir'].unique()"
   ]
  },
  {
   "cell_type": "code",
   "execution_count": 30,
   "metadata": {},
   "outputs": [
    {
     "name": "stdout",
     "output_type": "stream",
     "text": [
      "6481\n",
      "571\n",
      "5\n"
     ]
    }
   ],
   "source": [
    "# Number of unique values\n",
    "print(df_merged_nans_dropped['Crash_Street_Intersecting'].nunique())\n",
    "print(df_merged_nans_dropped['State_Road_Name'].nunique())\n",
    "print(df_merged_nans_dropped['DCA_Key_Approach_Dir'].nunique())"
   ]
  },
  {
   "attachments": {},
   "cell_type": "markdown",
   "metadata": {},
   "source": [
    "From the above, we can see that Crash_Street_Intersecting has over 6.4k unique values, while to a lesser extent State_Road_Name has 571, with DCA_Key_Approach_Dir having the least.\n",
    "\n",
    "Crash_Street_Intersecting seems to contain street and road names. State_Road_Name contains road names, as well as a geographic indicator of where that road may be (Suburb, part of a highway, near a creek, etc.). DCA_Key_Approach_Dir seems to contain cardinal direction values.\n",
    "\n",
    "Because NaN value processing can be different based on the analyses to be done, these NaNs will be left in the dataset. For example, with machine learning models like random forest, NaN values can be handled by the model inherently. On the other hand, other models might need imputation methods to handle the NaN values.\n",
    "\n",
    "One thing to note however is that the Crash_Street_Intersecting is missing values for more than half the rows in the entire dataset. As such, it is recommended to remove this column entirely, as imputation methods may not be appropriate. If there are more missing values than available values, it does not make sense to extrapolate the former from the latter as the former could have the possibility of representing the true distribution of values."
   ]
  },
  {
   "attachments": {},
   "cell_type": "markdown",
   "metadata": {},
   "source": [
    "The last step of pre-processing is to simply output to a csv file that can be used by other scripts/notebooks for analyses."
   ]
  },
  {
   "cell_type": "code",
   "execution_count": 31,
   "metadata": {},
   "outputs": [],
   "source": [
    "df_qld_crash_data = df_merged_nans_dropped\n",
    "df_qld_crash_data.to_csv('qld_crash_data_merged_processed.csv', index = False)"
   ]
  }
 ],
 "metadata": {
  "kernelspec": {
   "display_name": "Python3-11-3",
   "language": "python",
   "name": "python3"
  },
  "language_info": {
   "codemirror_mode": {
    "name": "ipython",
    "version": 3
   },
   "file_extension": ".py",
   "mimetype": "text/x-python",
   "name": "python",
   "nbconvert_exporter": "python",
   "pygments_lexer": "ipython3",
   "version": "3.8.0"
  },
  "orig_nbformat": 4
 },
 "nbformat": 4,
 "nbformat_minor": 2
}
