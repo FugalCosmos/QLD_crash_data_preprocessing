{
 "cells": [
  {
   "attachments": {},
   "cell_type": "markdown",
   "metadata": {},
   "source": [
    "# Required Libraries"
   ]
  },
  {
   "cell_type": "code",
   "execution_count": 24,
   "metadata": {},
   "outputs": [],
   "source": [
    "import pandas as pd\n",
    "import numpy as np\n",
    "\n",
    "import random\n",
    "\n",
    "# Set the random seed for the random module\n",
    "random.seed(42)\n",
    "\n",
    "# Set the random seed for NumPy\n",
    "np.random.seed(42)"
   ]
  },
  {
   "attachments": {},
   "cell_type": "markdown",
   "metadata": {},
   "source": [
    "# Datasets"
   ]
  },
  {
   "attachments": {},
   "cell_type": "markdown",
   "metadata": {},
   "source": [
    "Data retrieved from: https://www.data.qld.gov.au/dataset/crash-data-from-queensland-roads/resource/18ee2911-992f-40ed-b6ae-e756859786e6?inner_span=True"
   ]
  },
  {
   "attachments": {},
   "cell_type": "markdown",
   "metadata": {},
   "source": [
    "There are 4 crash datasets to be preprocessed. They involve:\n",
    "1. Road crash locations\n",
    "2. Driver demographics\n",
    "3. Vehicle types\n",
    "4. Road crash factors\n",
    "\n",
    "These 4 were chosen as they share multiple columns which will allow for joining. The road casualties and seatbelt restraints datasets were excluded as they did not share columns."
   ]
  },
  {
   "cell_type": "code",
   "execution_count": 25,
   "metadata": {},
   "outputs": [],
   "source": [
    "df_crash_locations = pd.read_csv(\"crash_data_queensland_1_crash_locations.csv\")\n",
    "df_crash_driver_demographics = pd.read_csv(\"crash_data_queensland_b_driver_involvement.csv\")\n",
    "df_crash_vehicle_types = pd.read_csv(\"crash_data_queensland_d_vehicle_involvement.csv\")\n",
    "df_crash_factors = pd.read_csv(\"crash_data_queensland_e_alcohol_speed_fatigue_defect.csv\")"
   ]
  },
  {
   "attachments": {},
   "cell_type": "markdown",
   "metadata": {},
   "source": [
    "Property damage crashes were recorded only up to 2010, therefore crashes that resulted in these will be excluded"
   ]
  },
  {
   "cell_type": "code",
   "execution_count": 26,
   "metadata": {},
   "outputs": [],
   "source": [
    "df_locations = df_crash_locations[df_crash_locations['Crash_Severity'] != 'Property damage only']\n",
    "df_driver_demographics = df_crash_driver_demographics[df_crash_driver_demographics['Crash_Severity'] != 'Property damage only']\n",
    "df_vehicle_types = df_crash_vehicle_types[df_crash_vehicle_types[\"Crash_Severity\"] != \"Property damage\"]\n",
    "df_factors = df_crash_factors[df_crash_factors[\"Crash_Severity\"] != \"Property damage\"]"
   ]
  },
  {
   "attachments": {},
   "cell_type": "markdown",
   "metadata": {},
   "source": [
    "Now to get an initial look at the four datasets"
   ]
  },
  {
   "cell_type": "code",
   "execution_count": 27,
   "metadata": {},
   "outputs": [
    {
     "name": "stdout",
     "output_type": "stream",
     "text": [
      "<class 'pandas.core.frame.DataFrame'>\n",
      "Index: 279798 entries, 0 to 367229\n",
      "Data columns (total 52 columns):\n",
      " #   Column                           Non-Null Count   Dtype  \n",
      "---  ------                           --------------   -----  \n",
      " 0   Crash_Ref_Number                 279798 non-null  int64  \n",
      " 1   Crash_Severity                   279798 non-null  object \n",
      " 2   Crash_Year                       279798 non-null  int64  \n",
      " 3   Crash_Month                      279798 non-null  object \n",
      " 4   Crash_Day_Of_Week                279798 non-null  object \n",
      " 5   Crash_Hour                       279798 non-null  int64  \n",
      " 6   Crash_Nature                     279798 non-null  object \n",
      " 7   Crash_Type                       279798 non-null  object \n",
      " 8   Crash_Longitude                  279798 non-null  float64\n",
      " 9   Crash_Latitude                   279798 non-null  float64\n",
      " 10  Crash_Street                     279791 non-null  object \n",
      " 11  Crash_Street_Intersecting        121005 non-null  object \n",
      " 12  State_Road_Name                  129563 non-null  object \n",
      " 13  Loc_Suburb                       279798 non-null  object \n",
      " 14  Loc_Local_Government_Area        279798 non-null  object \n",
      " 15  Loc_Post_Code                    279798 non-null  object \n",
      " 16  Loc_Police_Division              279798 non-null  object \n",
      " 17  Loc_Police_District              279798 non-null  object \n",
      " 18  Loc_Police_Region                279798 non-null  object \n",
      " 19  Loc_Queensland_Transport_Region  279798 non-null  object \n",
      " 20  Loc_Main_Roads_Region            279798 non-null  object \n",
      " 21  Loc_ABS_Statistical_Area_2       279798 non-null  object \n",
      " 22  Loc_ABS_Statistical_Area_3       279798 non-null  object \n",
      " 23  Loc_ABS_Statistical_Area_4       279798 non-null  object \n",
      " 24  Loc_ABS_Remoteness               279798 non-null  object \n",
      " 25  Loc_State_Electorate             279798 non-null  object \n",
      " 26  Loc_Federal_Electorate           279798 non-null  object \n",
      " 27  Crash_Controlling_Authority      279798 non-null  object \n",
      " 28  Crash_Roadway_Feature            279798 non-null  object \n",
      " 29  Crash_Traffic_Control            279798 non-null  object \n",
      " 30  Crash_Speed_Limit                279795 non-null  object \n",
      " 31  Crash_Road_Surface_Condition     279798 non-null  object \n",
      " 32  Crash_Atmospheric_Condition      279798 non-null  object \n",
      " 33  Crash_Lighting_Condition         279798 non-null  object \n",
      " 34  Crash_Road_Horiz_Align           279798 non-null  object \n",
      " 35  Crash_Road_Vert_Align            279797 non-null  object \n",
      " 36  Crash_DCA_Code                   279785 non-null  float64\n",
      " 37  Crash_DCA_Description            279785 non-null  object \n",
      " 38  Crash_DCA_Group_Description      279798 non-null  object \n",
      " 39  DCA_Key_Approach_Dir             275203 non-null  object \n",
      " 40  Count_Casualty_Fatality          279798 non-null  int64  \n",
      " 41  Count_Casualty_Hospitalised      279798 non-null  int64  \n",
      " 42  Count_Casualty_MedicallyTreated  279798 non-null  int64  \n",
      " 43  Count_Casualty_MinorInjury       279798 non-null  int64  \n",
      " 44  Count_Casualty_Total             279798 non-null  int64  \n",
      " 45  Count_Unit_Car                   279798 non-null  int64  \n",
      " 46  Count_Unit_Motorcycle_Moped      279798 non-null  int64  \n",
      " 47  Count_Unit_Truck                 279798 non-null  int64  \n",
      " 48  Count_Unit_Bus                   279798 non-null  int64  \n",
      " 49  Count_Unit_Bicycle               279798 non-null  int64  \n",
      " 50  Count_Unit_Pedestrian            279798 non-null  int64  \n",
      " 51  Count_Unit_Other                 279798 non-null  int64  \n",
      "dtypes: float64(3), int64(15), object(34)\n",
      "memory usage: 113.1+ MB\n"
     ]
    }
   ],
   "source": [
    "df_locations.info()"
   ]
  },
  {
   "cell_type": "code",
   "execution_count": 28,
   "metadata": {},
   "outputs": [
    {
     "name": "stdout",
     "output_type": "stream",
     "text": [
      "<class 'pandas.core.frame.DataFrame'>\n",
      "Index: 16713 entries, 0 to 19895\n",
      "Data columns (total 16 columns):\n",
      " #   Column                              Non-Null Count  Dtype \n",
      "---  ------                              --------------  ----- \n",
      " 0   Crash_Year                          16713 non-null  int64 \n",
      " 1   Crash_Police_Region                 16713 non-null  object\n",
      " 2   Crash_Severity                      16713 non-null  object\n",
      " 3   Involving_Male_Driver               16713 non-null  object\n",
      " 4   Involving_Female_Driver             16713 non-null  object\n",
      " 5   Involving_Young_Driver_16-24        16713 non-null  object\n",
      " 6   Involving_Senior_Driver_60plus      16713 non-null  object\n",
      " 7   Involving_Provisional_Driver        16713 non-null  object\n",
      " 8   Involving_Overseas_Licensed_Driver  16713 non-null  object\n",
      " 9   Involving_Unlicensed_Driver         16713 non-null  object\n",
      " 10  Count_Crashes                       16713 non-null  int64 \n",
      " 11  Count_Casualty_Fatality             16713 non-null  int64 \n",
      " 12  Count_Casualty_Hospitalised         16713 non-null  int64 \n",
      " 13  Count_Casualty_MedicallyTreated     16713 non-null  int64 \n",
      " 14  Count_Casualty_MinorInjury          16713 non-null  int64 \n",
      " 15  Count_Casualty_All                  16713 non-null  int64 \n",
      "dtypes: int64(7), object(9)\n",
      "memory usage: 2.2+ MB\n"
     ]
    }
   ],
   "source": [
    "df_driver_demographics.info()"
   ]
  },
  {
   "cell_type": "code",
   "execution_count": 29,
   "metadata": {},
   "outputs": [
    {
     "name": "stdout",
     "output_type": "stream",
     "text": [
      "<class 'pandas.core.frame.DataFrame'>\n",
      "RangeIndex: 3246 entries, 0 to 3245\n",
      "Data columns (total 12 columns):\n",
      " #   Column                           Non-Null Count  Dtype \n",
      "---  ------                           --------------  ----- \n",
      " 0   Crash_Year                       3246 non-null   int64 \n",
      " 1   Crash_Police_Region              3246 non-null   object\n",
      " 2   Crash_Severity                   3246 non-null   object\n",
      " 3   Involving_Motorcycle_Moped       3246 non-null   object\n",
      " 4   Involving_Truck                  3246 non-null   object\n",
      " 5   Involving_Bus                    3246 non-null   object\n",
      " 6   Count_Crashes                    3246 non-null   int64 \n",
      " 7   Count_Casualty_Fatality          3246 non-null   int64 \n",
      " 8   Count_Casualty_Hospitalised      3246 non-null   int64 \n",
      " 9   Count_Casualty_MedicallyTreated  3246 non-null   int64 \n",
      " 10  Count_Casualty_MinorInjury       3246 non-null   int64 \n",
      " 11  Count_Casualty_All               3246 non-null   int64 \n",
      "dtypes: int64(7), object(5)\n",
      "memory usage: 304.4+ KB\n"
     ]
    }
   ],
   "source": [
    "df_vehicle_types.info()"
   ]
  },
  {
   "cell_type": "code",
   "execution_count": 30,
   "metadata": {},
   "outputs": [
    {
     "name": "stdout",
     "output_type": "stream",
     "text": [
      "<class 'pandas.core.frame.DataFrame'>\n",
      "RangeIndex: 4799 entries, 0 to 4798\n",
      "Data columns (total 13 columns):\n",
      " #   Column                       Non-Null Count  Dtype \n",
      "---  ------                       --------------  ----- \n",
      " 0   Crash_Year                   4799 non-null   int64 \n",
      " 1   Crash_Police_Region          4799 non-null   object\n",
      " 2   Crash_Severity               4799 non-null   object\n",
      " 3   Involving_Drink_Driving      4799 non-null   object\n",
      " 4   Involving_Driver_Speed       4799 non-null   object\n",
      " 5   Involving_Fatigued_Driver    4799 non-null   object\n",
      " 6   Involving_Defective_Vehicle  4799 non-null   object\n",
      " 7   Count_Crashes                4799 non-null   int64 \n",
      " 8   Count_Fatality               4799 non-null   int64 \n",
      " 9   Count_Hospitalised           4799 non-null   int64 \n",
      " 10  Count_Medically_Treated      4799 non-null   int64 \n",
      " 11  Count_Minor_Injury           4799 non-null   int64 \n",
      " 12  Count_All_Casualties         4799 non-null   int64 \n",
      "dtypes: int64(7), object(6)\n",
      "memory usage: 487.5+ KB\n"
     ]
    }
   ],
   "source": [
    "df_factors.info()"
   ]
  },
  {
   "attachments": {},
   "cell_type": "markdown",
   "metadata": {},
   "source": [
    "From the above, one can see that they share some columns such as:\n",
    "\n",
    "- Crash Year\n",
    "- Crash Severity\n",
    "- Crash Police Region (excluding locations dataset)\n",
    "- Count variables (excluding the factors dataset)\n",
    "\n",
    "The locations and factors datasets will have to be preprocessed as their variable names do not match with the other datasets."
   ]
  },
  {
   "attachments": {},
   "cell_type": "markdown",
   "metadata": {},
   "source": [
    "For the factors datasets, a column mapping was defined, and the columns were renamed based on this column mapping"
   ]
  },
  {
   "cell_type": "code",
   "execution_count": 31,
   "metadata": {},
   "outputs": [
    {
     "data": {
      "text/plain": [
       "Index(['Crash_Year', 'Crash_Police_Region', 'Crash_Severity',\n",
       "       'Involving_Drink_Driving', 'Involving_Driver_Speed',\n",
       "       'Involving_Fatigued_Driver', 'Involving_Defective_Vehicle',\n",
       "       'Count_Crashes', 'Count_Casualty_Fatality',\n",
       "       'Count_Casualty_Hospitalised', 'Count_Casualty_MedicallyTreated',\n",
       "       'Count_Casualty_MinorInjury', 'Count_Casualty_All'],\n",
       "      dtype='object')"
      ]
     },
     "execution_count": 31,
     "metadata": {},
     "output_type": "execute_result"
    }
   ],
   "source": [
    "column_mapping = {'Count_Fatality': 'Count_Casualty_Fatality',\n",
    "                  'Count_Hospitalised': 'Count_Casualty_Hospitalised',\n",
    "                  'Count_Medically_Treated': 'Count_Casualty_MedicallyTreated',\n",
    "                  'Count_Minor_Injury': 'Count_Casualty_MinorInjury',\n",
    "                  'Count_All_Casualties': 'Count_Casualty_All',\n",
    "}\n",
    "\n",
    "# renaming columns based on the dictionary mapping\n",
    "df_factors_renamed = df_factors.rename(columns=column_mapping)\n",
    "\n",
    "df_factors_renamed.columns"
   ]
  },
  {
   "attachments": {},
   "cell_type": "markdown",
   "metadata": {},
   "source": [
    "For the locations dataset, there were three different police location variables (District, Division, Region). To determine which column corresponded with the Crash_Police_Region column in the other three datasets, the unique values of these location variables were analysed."
   ]
  },
  {
   "cell_type": "code",
   "execution_count": 32,
   "metadata": {},
   "outputs": [
    {
     "data": {
      "text/plain": [
       "array(['South Brisbane', 'Unknown', 'North Brisbane', 'Ipswich', 'Logan',\n",
       "       'Moreton', 'Gold Coast', 'Sunshine Coast', 'Wide Bay Burnett',\n",
       "       'Darling Downs', 'Capricornia', 'South West', 'Mackay',\n",
       "       'Mount Isa', 'Townsville', 'Far North'], dtype=object)"
      ]
     },
     "execution_count": 32,
     "metadata": {},
     "output_type": "execute_result"
    }
   ],
   "source": [
    "# Unique district values\n",
    "df_locations[\"Loc_Police_District\"].unique()"
   ]
  },
  {
   "cell_type": "code",
   "execution_count": 33,
   "metadata": {},
   "outputs": [
    {
     "data": {
      "text/plain": [
       "array(['Acacia Ridge', 'Moorooka', 'Upper Mount Gravatt', 'Calamvale',\n",
       "       'Dutton Park', 'Annerley', 'Unknown', 'Coorparoo', 'Holland Park',\n",
       "       'Sherwood', 'The Gap', 'Ferny Grove', 'Indooroopilly',\n",
       "       'Brisbane City', 'Carina', 'Wynnum', 'Morningside', 'Capalaba',\n",
       "       'Fortitude Valley', 'West End', 'Inala', 'Mount Ommaney', 'Goodna',\n",
       "       'Browns Plains', 'Sandgate', 'Carseldine',\n",
       "       'Mango Hill North Lakes', 'Albany Creek', 'Petrie', 'Stafford',\n",
       "       'Boondall', 'Logan Central', 'Springwood', 'Hendra', 'Dayboro',\n",
       "       'Beaudesert', 'Kalbar', 'Beenleigh', 'Coomera', 'North Tamborine',\n",
       "       'Caboolture', 'Burpengary', 'Deception Bay', 'Bribie Island',\n",
       "       'Woodford', 'Beerwah', 'Cleveland', 'Redland Bay',\n",
       "       'Russell Island', 'Macleay Island', 'Loganholme', 'Esk', 'Dunwich',\n",
       "       'Karana Downs', 'Ipswich', 'Redcliffe', 'Crestmead', 'Jimboomba',\n",
       "       'Yamanto', 'Booval', 'Springfield', 'Marburg', 'Rosewood',\n",
       "       'Broadbeach', 'Robina', 'Southport', 'Nerang', 'Palm Beach',\n",
       "       'Caloundra', 'Kawana Waters', 'Canungra', 'Rathdowney',\n",
       "       'Coolangatta', 'Coolum', 'Maroochydore', 'Nambour', 'Pomona',\n",
       "       'Cooroy', 'Noosa Heads', 'Imbil', 'Eumundi', 'Kenilworth',\n",
       "       'Maleny', 'Kilcoy', 'Moore', 'Sippy Downs', 'Lowood', 'Laidley',\n",
       "       'Palmwoods', 'Blackbutt', 'Toogoolawah', 'Nanango', 'Mudgeeraba',\n",
       "       'Runaway Bay', 'Surfers Paradise', 'Logan Village Yarrabilba',\n",
       "       'Boonah', 'Harrisville', 'Yangan', 'Crows Nest', 'Helidon',\n",
       "       'Gatton', 'Drayton', 'Bundaberg', 'Bargara', 'Biggenden',\n",
       "       'South Kolan', 'Cherbourg', 'Murgon', 'Goomeri', 'Childers',\n",
       "       'Gin Gin', 'Eidsvold', 'Mundubbera', 'Gayndah', 'Monto',\n",
       "       'Kilkivan', 'Gympie', 'Tin Can Bay', 'Hervey Bay', 'Maryborough',\n",
       "       'Fraser Island', 'Howard', 'Kingaroy', 'Wondai', 'Kumbia', 'Tiaro',\n",
       "       'Miriam Vale', 'Agnes Water', 'Rosedale', 'Biloela', 'Many Peaks',\n",
       "       'Mount Perry', 'Cooyar', 'Proston', 'Toowoomba', 'Highfields',\n",
       "       'Oakey', 'Allora', 'Clifton', 'Leyburn', 'Warwick', 'Cecil Plains',\n",
       "       'Millmerran', 'Dalby', 'Tara', 'Goombungee', 'Yarraman',\n",
       "       'Goondiwindi', 'Inglewood', 'Pittsworth', 'Stanthorpe',\n",
       "       'Wallangarra', 'Thallon', 'Talwood', 'Mungindi', 'Yelarbon',\n",
       "       'Meandarra', 'Taroom', 'Roma', 'Wandoan', 'Injune', 'Texas',\n",
       "       'Cambooya', 'Jondaryan', 'Peranga', 'Bell', 'Chinchilla',\n",
       "       'Jandowae', 'Killarney', 'Saint George', 'Surat', 'Dulacca',\n",
       "       'Yuleba', 'Mitchell', 'Yaraka', 'Bollon', 'Mungallala',\n",
       "       'Wallumbilla', 'Dirranbandi', 'Miles', 'Cunnamulla', 'Wyandra',\n",
       "       'Charleville', 'Eulo', 'Thargomindah', 'Hungerford', 'Quilpie',\n",
       "       'Adavale', 'Eromanga', 'Tambo', 'Augathella', 'Morven', 'Alpha',\n",
       "       'Jericho', 'Anakie', 'Springsure', 'Baralaba', 'Moura', 'Goovigen',\n",
       "       'Calliope', 'Blackwater', 'Woorabinda', 'Mount Larcom',\n",
       "       'Tannum Sands', 'Gladstone', 'Capella', 'Duaringa', 'Emerald',\n",
       "       'Emu Park', 'Lakes Creek', 'Yeppoon', 'Wowan', 'North Rockhampton',\n",
       "       'Marlborough', 'Marmor', 'Gracemere', 'Rockhampton', 'Theodore',\n",
       "       'Mount Morgan', 'Rolleston', 'Tieri', 'Middlemount', 'Westwood',\n",
       "       'Muttaburra', 'Aramac', 'Barcaldine', 'Bedourie', 'Birdsville',\n",
       "       'Windorah', 'Blackall', 'Boulia', 'Dajarra', 'Ilfracombe',\n",
       "       'Isisford', 'Jundah', 'Longreach', 'Winton', 'Richmond',\n",
       "       'Proserpine', 'Calen', 'Seaforth', 'Mirani', 'Whitsunday',\n",
       "       'Saint Lawrence', 'Carmila', 'Sarina', 'Clermont', 'Dysart',\n",
       "       'Eton', 'Walkerston', 'Mackay', 'Mackay Northern Beaches',\n",
       "       'Farleigh', 'Finch Hatton', 'Glenden', 'Nebo', 'Marian',\n",
       "       'Moranbah', 'Ayr', 'Home Hill', 'Bowen', 'Collinsville',\n",
       "       'Charters Towers', 'Pentland', 'Ravenswood', 'Giru', 'Stuart',\n",
       "       'Greenvale', 'Mount Garnet', 'Mount Surprise', 'Halifax', 'Ingham',\n",
       "       'Rollingstone', 'Cardwell', 'Kirwan', 'Mundingburra', 'Townsville',\n",
       "       'Deeragun', 'Magnetic Island', 'Palm Island', 'Atherton',\n",
       "       'Mareeba', 'Yungaburra', 'Malanda', 'Babinda', 'Gordonvale',\n",
       "       'Innisfail', 'Bamaga', 'Cairns', 'Chillagoe', 'Dimbulah', 'Coen',\n",
       "       'Laura', 'Pormpuraaw', 'Cooktown', 'Hope Vale', 'Wujal Wujal',\n",
       "       'Herberton', 'Edmonton', 'Mission Beach', 'El Arish', 'Georgetown',\n",
       "       'Forsayth', 'Croydon', 'Ravenshoe', 'Mourilyan', 'South Johnstone',\n",
       "       'Kuranda', 'Smithfield', 'Lockhart River', 'Weipa',\n",
       "       'Millaa Millaa', 'Mossman', 'Port Douglas', 'Mount Molloy',\n",
       "       'Silkwood', 'Thursday Island', 'Badu Island', 'Horn Island',\n",
       "       'Tully', 'Aurukun', 'Yarrabah', 'Burketown', 'Camooweal',\n",
       "       'Mount Isa', 'Cloncurry', 'Kynuna', 'Doomadgee', 'Hughenden',\n",
       "       'Prairie', 'Julia Creek', 'Karumba', 'Normanton', 'Kowanyama',\n",
       "       'Mckinlay', 'Mornington Island', 'Clare'], dtype=object)"
      ]
     },
     "execution_count": 33,
     "metadata": {},
     "output_type": "execute_result"
    }
   ],
   "source": [
    "# unique division values\n",
    "df_locations[\"Loc_Police_Division\"].unique()"
   ]
  },
  {
   "cell_type": "code",
   "execution_count": 34,
   "metadata": {},
   "outputs": [
    {
     "data": {
      "text/plain": [
       "array(['Brisbane', 'Unknown', 'Southern', 'South Eastern', 'North Coast',\n",
       "       'Central', 'Northern', 'Far Northern'], dtype=object)"
      ]
     },
     "execution_count": 34,
     "metadata": {},
     "output_type": "execute_result"
    }
   ],
   "source": [
    "# unique region values\n",
    "df_locations[\"Loc_Police_Region\"].unique()"
   ]
  },
  {
   "cell_type": "code",
   "execution_count": 35,
   "metadata": {},
   "outputs": [
    {
     "name": "stdout",
     "output_type": "stream",
     "text": [
      "['Brisbane' 'Central' 'Far Northern' 'North Coast' 'Northern'\n",
      " 'South Eastern' 'Southern' 'Unknown']\n",
      "['Brisbane' 'Central' 'Far Northern' 'North Coast' 'Northern'\n",
      " 'South Eastern' 'Southern' 'Unknown']\n",
      "['Brisbane' 'Central' 'Far Northern' 'North Coast' 'Northern'\n",
      " 'South Eastern' 'Southern' 'Unknown']\n"
     ]
    }
   ],
   "source": [
    "# unique Crash_Police_Region values in the other three datasets\n",
    "print(df_driver_demographics[\"Crash_Police_Region\"].unique())\n",
    "print(df_vehicle_types[\"Crash_Police_Region\"].unique())\n",
    "print(df_factors_renamed[\"Crash_Police_Region\"].unique())"
   ]
  },
  {
   "attachments": {},
   "cell_type": "markdown",
   "metadata": {},
   "source": [
    "From the above data exploration, it would seem that Loc_Police_Region matches the Crash_Police_Region column in the other three datasets."
   ]
  },
  {
   "attachments": {},
   "cell_type": "markdown",
   "metadata": {},
   "source": [
    "As such, the Loc_Police_Region will be renamed to follow the naming scheme of the other datasets. Note that the Count_Casualty_Total column will also be renamed to Count_Casualty_All for the same reason."
   ]
  },
  {
   "cell_type": "code",
   "execution_count": 36,
   "metadata": {},
   "outputs": [
    {
     "data": {
      "text/plain": [
       "Index(['Crash_Ref_Number', 'Crash_Severity', 'Crash_Year', 'Crash_Month',\n",
       "       'Crash_Day_Of_Week', 'Crash_Hour', 'Crash_Nature', 'Crash_Type',\n",
       "       'Crash_Longitude', 'Crash_Latitude', 'Crash_Street',\n",
       "       'Crash_Street_Intersecting', 'State_Road_Name', 'Loc_Suburb',\n",
       "       'Loc_Local_Government_Area', 'Loc_Post_Code', 'Loc_Police_Division',\n",
       "       'Loc_Police_District', 'Loc_Police_Region',\n",
       "       'Loc_Queensland_Transport_Region', 'Loc_Main_Roads_Region',\n",
       "       'Loc_ABS_Statistical_Area_2', 'Loc_ABS_Statistical_Area_3',\n",
       "       'Loc_ABS_Statistical_Area_4', 'Loc_ABS_Remoteness',\n",
       "       'Loc_State_Electorate', 'Loc_Federal_Electorate',\n",
       "       'Crash_Controlling_Authority', 'Crash_Roadway_Feature',\n",
       "       'Crash_Traffic_Control', 'Crash_Speed_Limit',\n",
       "       'Crash_Road_Surface_Condition', 'Crash_Atmospheric_Condition',\n",
       "       'Crash_Lighting_Condition', 'Crash_Road_Horiz_Align',\n",
       "       'Crash_Road_Vert_Align', 'Crash_DCA_Code', 'Crash_DCA_Description',\n",
       "       'Crash_DCA_Group_Description', 'DCA_Key_Approach_Dir',\n",
       "       'Count_Casualty_Fatality', 'Count_Casualty_Hospitalised',\n",
       "       'Count_Casualty_MedicallyTreated', 'Count_Casualty_MinorInjury',\n",
       "       'Count_Casualty_Total', 'Count_Unit_Car', 'Count_Unit_Motorcycle_Moped',\n",
       "       'Count_Unit_Truck', 'Count_Unit_Bus', 'Count_Unit_Bicycle',\n",
       "       'Count_Unit_Pedestrian', 'Count_Unit_Other'],\n",
       "      dtype='object')"
      ]
     },
     "execution_count": 36,
     "metadata": {},
     "output_type": "execute_result"
    }
   ],
   "source": [
    "df_locations_renamed = df_locations.rename(columns = {\"Loc_Police_Region\": \"Crash_Police_Region\",\n",
    "                                                      \"Count_Casualty_Total\": \"Count_Casualty_All\"})\n",
    "\n",
    "df_locations.columns"
   ]
  },
  {
   "attachments": {},
   "cell_type": "markdown",
   "metadata": {},
   "source": [
    "Now to verify that the police region and count columns match across all three datasets"
   ]
  },
  {
   "cell_type": "code",
   "execution_count": 37,
   "metadata": {},
   "outputs": [
    {
     "name": "stdout",
     "output_type": "stream",
     "text": [
      "['Crash_Severity', 'Count_Casualty_Hospitalised', 'Count_Casualty_MedicallyTreated', 'Crash_Police_Region', 'Count_Casualty_Fatality', 'Crash_Year', 'Count_Casualty_All', 'Count_Casualty_MinorInjury']\n"
     ]
    }
   ],
   "source": [
    "# Get the column names for each DataFrame\n",
    "columns_locations = set(df_locations_renamed.columns)\n",
    "columns_driver_demographics = set(df_driver_demographics.columns)\n",
    "columns_vehicle_types = set(df_vehicle_types.columns)\n",
    "columns_factors = set(df_factors_renamed.columns)\n",
    "\n",
    "# Find the shared columns using .intersection\n",
    "shared_columns = list(columns_locations.intersection(columns_driver_demographics,\n",
    "                                                    columns_vehicle_types,\n",
    "                                                    columns_factors))\n",
    "\n",
    "\n",
    "print(shared_columns)"
   ]
  },
  {
   "attachments": {},
   "cell_type": "markdown",
   "metadata": {},
   "source": [
    "Before merging the datasets by performing a join, duplicate rows based on the datasets' shared columns should be inspected"
   ]
  },
  {
   "cell_type": "code",
   "execution_count": 38,
   "metadata": {},
   "outputs": [
    {
     "name": "stdout",
     "output_type": "stream",
     "text": [
      "Number of duplicates in df_locations: 272562\n",
      "Number of duplicates in df_driver_demographics: 5068\n",
      "Number of duplicates in df_vehicle_types: 353\n",
      "Number of duplicates in df_factors: 920\n"
     ]
    }
   ],
   "source": [
    "# Function to calculate the number of duplicates in a DataFrame\n",
    "def count_duplicates(df, key_columns):\n",
    "    return df.duplicated(subset=key_columns).sum()\n",
    "\n",
    "# Define the key columns to compare duplicates\n",
    "key_columns = ['Crash_Year', \n",
    "               'Crash_Police_Region', \n",
    "               'Crash_Severity', \n",
    "               'Count_Casualty_All', \n",
    "               'Count_Casualty_Fatality', \n",
    "               'Count_Casualty_Hospitalised', \n",
    "               'Count_Casualty_MedicallyTreated', \n",
    "               'Count_Casualty_MinorInjury']\n",
    "\n",
    "# Calculate the number of duplicates for each dataset\n",
    "num_duplicates_locations = count_duplicates(df_locations_renamed, key_columns)\n",
    "num_duplicates_driver = count_duplicates(df_driver_demographics, key_columns)\n",
    "num_duplicates_vehicle = count_duplicates(df_vehicle_types, key_columns)\n",
    "num_duplicates_factors = count_duplicates(df_factors_renamed, key_columns)\n",
    "\n",
    "# Print the number of duplicates for each dataset\n",
    "print(\"Number of duplicates in df_locations:\", num_duplicates_locations)\n",
    "print(\"Number of duplicates in df_driver_demographics:\", num_duplicates_driver)\n",
    "print(\"Number of duplicates in df_vehicle_types:\", num_duplicates_vehicle)\n",
    "print(\"Number of duplicates in df_factors:\", num_duplicates_factors)\n"
   ]
  },
  {
   "attachments": {},
   "cell_type": "markdown",
   "metadata": {},
   "source": [
    "From the above, it would seem that there are a large number of duplicates for these shared columns. Because of this, performing an inner join would be computationally expensive, as the resulting merged dataframe will contain all the possible combinations of the duplicated rows.\n",
    "\n",
    "For the purposes of this notebook,the join method will be a __left join__. While left joins will result in a large amount of NaN values, the data that remains will be the most accurate in representing the population."
   ]
  },
  {
   "cell_type": "code",
   "execution_count": 39,
   "metadata": {},
   "outputs": [
    {
     "name": "stdout",
     "output_type": "stream",
     "text": [
      "(279798, 52)\n",
      "(16713, 16)\n",
      "(1228181, 60)\n",
      "Crash_Ref_Number                           0\n",
      "Crash_Severity                             0\n",
      "Crash_Year                                 0\n",
      "Crash_Month                                0\n",
      "Crash_Day_Of_Week                          0\n",
      "Crash_Hour                                 0\n",
      "Crash_Nature                               0\n",
      "Crash_Type                                 0\n",
      "Crash_Longitude                            0\n",
      "Crash_Latitude                             0\n",
      "Crash_Street                              39\n",
      "Crash_Street_Intersecting             694103\n",
      "State_Road_Name                       674420\n",
      "Loc_Suburb                                 0\n",
      "Loc_Local_Government_Area                  0\n",
      "Loc_Post_Code                              0\n",
      "Loc_Police_Division                        0\n",
      "Loc_Police_District                        0\n",
      "Crash_Police_Region                        0\n",
      "Loc_Queensland_Transport_Region            0\n",
      "Loc_Main_Roads_Region                      0\n",
      "Loc_ABS_Statistical_Area_2                 0\n",
      "Loc_ABS_Statistical_Area_3                 0\n",
      "Loc_ABS_Statistical_Area_4                 0\n",
      "Loc_ABS_Remoteness                         0\n",
      "Loc_State_Electorate                       0\n",
      "Loc_Federal_Electorate                     0\n",
      "Crash_Controlling_Authority                0\n",
      "Crash_Roadway_Feature                      0\n",
      "Crash_Traffic_Control                      0\n",
      "Crash_Speed_Limit                          7\n",
      "Crash_Road_Surface_Condition               0\n",
      "Crash_Atmospheric_Condition                0\n",
      "Crash_Lighting_Condition                   0\n",
      "Crash_Road_Horiz_Align                     0\n",
      "Crash_Road_Vert_Align                      7\n",
      "Crash_DCA_Code                            58\n",
      "Crash_DCA_Description                     58\n",
      "Crash_DCA_Group_Description                0\n",
      "DCA_Key_Approach_Dir                   19157\n",
      "Count_Casualty_Fatality                    0\n",
      "Count_Casualty_Hospitalised                0\n",
      "Count_Casualty_MedicallyTreated            0\n",
      "Count_Casualty_MinorInjury                 0\n",
      "Count_Casualty_All                         0\n",
      "Count_Unit_Car                             0\n",
      "Count_Unit_Motorcycle_Moped                0\n",
      "Count_Unit_Truck                           0\n",
      "Count_Unit_Bus                             0\n",
      "Count_Unit_Bicycle                         0\n",
      "Count_Unit_Pedestrian                      0\n",
      "Count_Unit_Other                           0\n",
      "Involving_Male_Driver                  27524\n",
      "Involving_Female_Driver                27524\n",
      "Involving_Young_Driver_16-24           27524\n",
      "Involving_Senior_Driver_60plus         27524\n",
      "Involving_Provisional_Driver           27524\n",
      "Involving_Overseas_Licensed_Driver     27524\n",
      "Involving_Unlicensed_Driver            27524\n",
      "Count_Crashes                          27524\n",
      "dtype: int64\n"
     ]
    }
   ],
   "source": [
    "# Perform inner join on df_crash_locations and df_crash_driver_demographics\n",
    "df_merged = pd.merge(df_locations_renamed, df_driver_demographics, on=key_columns, how='left')\n",
    "\n",
    "print(df_locations_renamed.shape)\n",
    "print(df_driver_demographics.shape)\n",
    "print(df_merged.shape)\n",
    "print(df_merged.isna().sum())"
   ]
  },
  {
   "cell_type": "code",
   "execution_count": 40,
   "metadata": {},
   "outputs": [
    {
     "data": {
      "text/plain": [
       "Index(['Crash_Ref_Number', 'Crash_Severity', 'Crash_Year', 'Crash_Month',\n",
       "       'Crash_Day_Of_Week', 'Crash_Hour', 'Crash_Nature', 'Crash_Type',\n",
       "       'Crash_Longitude', 'Crash_Latitude', 'Crash_Street',\n",
       "       'Crash_Street_Intersecting', 'State_Road_Name', 'Loc_Suburb',\n",
       "       'Loc_Local_Government_Area', 'Loc_Post_Code', 'Loc_Police_Division',\n",
       "       'Loc_Police_District', 'Crash_Police_Region',\n",
       "       'Loc_Queensland_Transport_Region', 'Loc_Main_Roads_Region',\n",
       "       'Loc_ABS_Statistical_Area_2', 'Loc_ABS_Statistical_Area_3',\n",
       "       'Loc_ABS_Statistical_Area_4', 'Loc_ABS_Remoteness',\n",
       "       'Loc_State_Electorate', 'Loc_Federal_Electorate',\n",
       "       'Crash_Controlling_Authority', 'Crash_Roadway_Feature',\n",
       "       'Crash_Traffic_Control', 'Crash_Speed_Limit',\n",
       "       'Crash_Road_Surface_Condition', 'Crash_Atmospheric_Condition',\n",
       "       'Crash_Lighting_Condition', 'Crash_Road_Horiz_Align',\n",
       "       'Crash_Road_Vert_Align', 'Crash_DCA_Code', 'Crash_DCA_Description',\n",
       "       'Crash_DCA_Group_Description', 'DCA_Key_Approach_Dir',\n",
       "       'Count_Casualty_Fatality', 'Count_Casualty_Hospitalised',\n",
       "       'Count_Casualty_MedicallyTreated', 'Count_Casualty_MinorInjury',\n",
       "       'Count_Casualty_All', 'Count_Unit_Car', 'Count_Unit_Motorcycle_Moped',\n",
       "       'Count_Unit_Truck', 'Count_Unit_Bus', 'Count_Unit_Bicycle',\n",
       "       'Count_Unit_Pedestrian', 'Count_Unit_Other', 'Involving_Male_Driver',\n",
       "       'Involving_Female_Driver', 'Involving_Young_Driver_16-24',\n",
       "       'Involving_Senior_Driver_60plus', 'Involving_Provisional_Driver',\n",
       "       'Involving_Overseas_Licensed_Driver', 'Involving_Unlicensed_Driver',\n",
       "       'Count_Crashes'],\n",
       "      dtype='object')"
      ]
     },
     "execution_count": 40,
     "metadata": {},
     "output_type": "execute_result"
    }
   ],
   "source": [
    "df_merged.columns"
   ]
  },
  {
   "attachments": {},
   "cell_type": "markdown",
   "metadata": {},
   "source": [
    "After the left join, multiple rows will have duplicates."
   ]
  },
  {
   "cell_type": "code",
   "execution_count": 41,
   "metadata": {},
   "outputs": [
    {
     "name": "stdout",
     "output_type": "stream",
     "text": [
      "No. duplicates based on key columns:  1220945\n",
      "No. duplicates based on CRN:  948383\n"
     ]
    }
   ],
   "source": [
    "duplicates_key_columns = count_duplicates(df_merged, key_columns)\n",
    "\n",
    "# Crash_Ref_Number, which is a unique ID\n",
    "duplicates_CRN = count_duplicates(df_merged, 'Crash_Ref_Number')\n",
    "\n",
    "print(\"No. duplicates based on key columns: \", duplicates_key_columns)\n",
    "print(\"No. duplicates based on CRN: \", duplicates_CRN)"
   ]
  },
  {
   "attachments": {},
   "cell_type": "markdown",
   "metadata": {},
   "source": [
    "To address this, duplicates will be dropped based on Crash_Ref_Number. This will allow for 1 unique row per 1 unique CRN."
   ]
  },
  {
   "cell_type": "code",
   "execution_count": 42,
   "metadata": {},
   "outputs": [
    {
     "data": {
      "text/plain": [
       "(279798, 60)"
      ]
     },
     "execution_count": 42,
     "metadata": {},
     "output_type": "execute_result"
    }
   ],
   "source": [
    "df_merged = df_merged.drop_duplicates(subset = 'Crash_Ref_Number')\n",
    "df_merged.shape"
   ]
  },
  {
   "attachments": {},
   "cell_type": "markdown",
   "metadata": {},
   "source": [
    "Afterwards, another merge is done with the current merged dataset and the vehicle types dataset"
   ]
  },
  {
   "cell_type": "code",
   "execution_count": 43,
   "metadata": {},
   "outputs": [
    {
     "name": "stdout",
     "output_type": "stream",
     "text": [
      "(279798, 60)\n",
      "(3246, 12)\n",
      "(299964, 63)\n",
      "Crash_Ref_Number                 2766\n",
      "Crash_Severity                      0\n",
      "Crash_Year                          0\n",
      "Crash_Month                      2766\n",
      "Crash_Day_Of_Week                2766\n",
      "                                ...  \n",
      "Involving_Unlicensed_Driver     30290\n",
      "Count_Crashes                   27524\n",
      "Involving_Motorcycle_Moped     173076\n",
      "Involving_Truck                173076\n",
      "Involving_Bus                  173076\n",
      "Length: 63, dtype: int64\n"
     ]
    }
   ],
   "source": [
    "# Perform inner join on df_merged and df_crash_vehicle_types\n",
    "\n",
    "# Added Count_Crashes as it is a shared column with current merged dataset (locations, demographics) and vehicle types\n",
    "key_columns = ['Crash_Year', \n",
    "               'Crash_Police_Region', \n",
    "               'Crash_Severity', \n",
    "               'Count_Casualty_All',\n",
    "               'Count_Casualty_Fatality', \n",
    "               'Count_Casualty_Hospitalised', \n",
    "               'Count_Casualty_MedicallyTreated', \n",
    "               'Count_Casualty_MinorInjury',\n",
    "               'Count_Crashes']\n",
    "\n",
    "print(df_merged.shape)\n",
    "print(df_vehicle_types.shape)\n",
    "\n",
    "df_merged = pd.merge(df_merged, df_vehicle_types, on=key_columns, how='outer')\n",
    "\n",
    "print(df_merged.shape)\n",
    "print(df_merged.isna().sum())"
   ]
  },
  {
   "cell_type": "code",
   "execution_count": 44,
   "metadata": {},
   "outputs": [
    {
     "data": {
      "text/plain": [
       "Index(['Crash_Ref_Number', 'Crash_Severity', 'Crash_Year', 'Crash_Month',\n",
       "       'Crash_Day_Of_Week', 'Crash_Hour', 'Crash_Nature', 'Crash_Type',\n",
       "       'Crash_Longitude', 'Crash_Latitude', 'Crash_Street',\n",
       "       'Crash_Street_Intersecting', 'State_Road_Name', 'Loc_Suburb',\n",
       "       'Loc_Local_Government_Area', 'Loc_Post_Code', 'Loc_Police_Division',\n",
       "       'Loc_Police_District', 'Crash_Police_Region',\n",
       "       'Loc_Queensland_Transport_Region', 'Loc_Main_Roads_Region',\n",
       "       'Loc_ABS_Statistical_Area_2', 'Loc_ABS_Statistical_Area_3',\n",
       "       'Loc_ABS_Statistical_Area_4', 'Loc_ABS_Remoteness',\n",
       "       'Loc_State_Electorate', 'Loc_Federal_Electorate',\n",
       "       'Crash_Controlling_Authority', 'Crash_Roadway_Feature',\n",
       "       'Crash_Traffic_Control', 'Crash_Speed_Limit',\n",
       "       'Crash_Road_Surface_Condition', 'Crash_Atmospheric_Condition',\n",
       "       'Crash_Lighting_Condition', 'Crash_Road_Horiz_Align',\n",
       "       'Crash_Road_Vert_Align', 'Crash_DCA_Code', 'Crash_DCA_Description',\n",
       "       'Crash_DCA_Group_Description', 'DCA_Key_Approach_Dir',\n",
       "       'Count_Casualty_Fatality', 'Count_Casualty_Hospitalised',\n",
       "       'Count_Casualty_MedicallyTreated', 'Count_Casualty_MinorInjury',\n",
       "       'Count_Casualty_All', 'Count_Unit_Car', 'Count_Unit_Motorcycle_Moped',\n",
       "       'Count_Unit_Truck', 'Count_Unit_Bus', 'Count_Unit_Bicycle',\n",
       "       'Count_Unit_Pedestrian', 'Count_Unit_Other', 'Involving_Male_Driver',\n",
       "       'Involving_Female_Driver', 'Involving_Young_Driver_16-24',\n",
       "       'Involving_Senior_Driver_60plus', 'Involving_Provisional_Driver',\n",
       "       'Involving_Overseas_Licensed_Driver', 'Involving_Unlicensed_Driver',\n",
       "       'Count_Crashes', 'Involving_Motorcycle_Moped', 'Involving_Truck',\n",
       "       'Involving_Bus'],\n",
       "      dtype='object')"
      ]
     },
     "execution_count": 44,
     "metadata": {},
     "output_type": "execute_result"
    }
   ],
   "source": [
    "df_merged.columns"
   ]
  },
  {
   "attachments": {},
   "cell_type": "markdown",
   "metadata": {},
   "source": [
    "Here, duplicates are again dropped based on Crash_Ref_Number"
   ]
  },
  {
   "cell_type": "code",
   "execution_count": 45,
   "metadata": {},
   "outputs": [
    {
     "data": {
      "text/plain": [
       "(279799, 63)"
      ]
     },
     "execution_count": 45,
     "metadata": {},
     "output_type": "execute_result"
    }
   ],
   "source": [
    "df_merged = df_merged.drop_duplicates(subset = 'Crash_Ref_Number')\n",
    "df_merged.shape"
   ]
  },
  {
   "attachments": {},
   "cell_type": "markdown",
   "metadata": {},
   "source": [
    "Below is the final left join"
   ]
  },
  {
   "cell_type": "code",
   "execution_count": 46,
   "metadata": {},
   "outputs": [
    {
     "name": "stdout",
     "output_type": "stream",
     "text": [
      "(279799, 63)\n",
      "(4799, 13)\n"
     ]
    },
    {
     "name": "stdout",
     "output_type": "stream",
     "text": [
      "(362974, 67)\n"
     ]
    }
   ],
   "source": [
    "# Perform inner join on df_merged and df_crash_factors\n",
    "print(df_merged.shape)\n",
    "print(df_factors_renamed.shape)\n",
    "\n",
    "df_merged = pd.merge(df_merged, df_factors_renamed, on=key_columns, how='outer')\n",
    "\n",
    "print(df_merged.shape)"
   ]
  },
  {
   "attachments": {},
   "cell_type": "markdown",
   "metadata": {},
   "source": [
    "and the final deduplication"
   ]
  },
  {
   "cell_type": "code",
   "execution_count": 47,
   "metadata": {},
   "outputs": [
    {
     "data": {
      "text/plain": [
       "(279799, 67)"
      ]
     },
     "execution_count": 47,
     "metadata": {},
     "output_type": "execute_result"
    }
   ],
   "source": [
    "df_merged = df_merged.drop_duplicates(subset = 'Crash_Ref_Number')\n",
    "df_merged.shape"
   ]
  },
  {
   "attachments": {},
   "cell_type": "markdown",
   "metadata": {},
   "source": [
    "The left joins have resulted in 279k rows and 67 columns. However, a large proportion of these rows will have NaN values, due to the right datasets containing columns that the left datasets did not have at the time of the left join. \n",
    "\n",
    "To address this, __all rows with NaN values will be dropped__.\n",
    "\n",
    "This is to ensure that the remaining columns are as accurate as possible."
   ]
  },
  {
   "cell_type": "code",
   "execution_count": 48,
   "metadata": {},
   "outputs": [
    {
     "data": {
      "text/plain": [
       "(11978, 67)"
      ]
     },
     "execution_count": 48,
     "metadata": {},
     "output_type": "execute_result"
    }
   ],
   "source": [
    "df_dropped_na = df_merged.dropna()\n",
    "\n",
    "df_dropped_na.shape"
   ]
  },
  {
   "attachments": {},
   "cell_type": "markdown",
   "metadata": {},
   "source": [
    "Even after dropping all rows with NaNs, we are still left with almost almost 12k samples. This is more than sufficient for analyses with machine learning and deep learning models."
   ]
  },
  {
   "cell_type": "code",
   "execution_count": 53,
   "metadata": {},
   "outputs": [
    {
     "data": {
      "text/plain": [
       "Index(['Crash_Ref_Number', 'Crash_Severity', 'Crash_Year', 'Crash_Month',\n",
       "       'Crash_Day_Of_Week', 'Crash_Hour', 'Crash_Nature', 'Crash_Type',\n",
       "       'Crash_Longitude', 'Crash_Latitude', 'Crash_Street',\n",
       "       'Crash_Street_Intersecting', 'State_Road_Name', 'Loc_Suburb',\n",
       "       'Loc_Local_Government_Area', 'Loc_Post_Code', 'Loc_Police_Division',\n",
       "       'Loc_Police_District', 'Crash_Police_Region',\n",
       "       'Loc_Queensland_Transport_Region', 'Loc_Main_Roads_Region',\n",
       "       'Loc_ABS_Statistical_Area_2', 'Loc_ABS_Statistical_Area_3',\n",
       "       'Loc_ABS_Statistical_Area_4', 'Loc_ABS_Remoteness',\n",
       "       'Loc_State_Electorate', 'Loc_Federal_Electorate',\n",
       "       'Crash_Controlling_Authority', 'Crash_Roadway_Feature',\n",
       "       'Crash_Traffic_Control', 'Crash_Speed_Limit',\n",
       "       'Crash_Road_Surface_Condition', 'Crash_Atmospheric_Condition',\n",
       "       'Crash_Lighting_Condition', 'Crash_Road_Horiz_Align',\n",
       "       'Crash_Road_Vert_Align', 'Crash_DCA_Code', 'Crash_DCA_Description',\n",
       "       'Crash_DCA_Group_Description', 'DCA_Key_Approach_Dir',\n",
       "       'Count_Casualty_Fatality', 'Count_Casualty_Hospitalised',\n",
       "       'Count_Casualty_MedicallyTreated', 'Count_Casualty_MinorInjury',\n",
       "       'Count_Casualty_All', 'Count_Unit_Car', 'Count_Unit_Motorcycle_Moped',\n",
       "       'Count_Unit_Truck', 'Count_Unit_Bus', 'Count_Unit_Bicycle',\n",
       "       'Count_Unit_Pedestrian', 'Count_Unit_Other', 'Involving_Male_Driver',\n",
       "       'Involving_Female_Driver', 'Involving_Young_Driver_16-24',\n",
       "       'Involving_Senior_Driver_60plus', 'Involving_Provisional_Driver',\n",
       "       'Involving_Overseas_Licensed_Driver', 'Involving_Unlicensed_Driver',\n",
       "       'Count_Crashes', 'Involving_Motorcycle_Moped', 'Involving_Truck',\n",
       "       'Involving_Bus', 'Involving_Drink_Driving', 'Involving_Driver_Speed',\n",
       "       'Involving_Fatigued_Driver', 'Involving_Defective_Vehicle'],\n",
       "      dtype='object')"
      ]
     },
     "execution_count": 53,
     "metadata": {},
     "output_type": "execute_result"
    }
   ],
   "source": [
    "df_dropped_na.columns"
   ]
  },
  {
   "attachments": {},
   "cell_type": "markdown",
   "metadata": {},
   "source": [
    "Currently, we are dealing with a dataset with 11978 rows and 67 columns. "
   ]
  },
  {
   "cell_type": "code",
   "execution_count": 50,
   "metadata": {},
   "outputs": [
    {
     "name": "stdout",
     "output_type": "stream",
     "text": [
      "<class 'pandas.core.frame.DataFrame'>\n",
      "Index: 11978 entries, 21 to 357113\n",
      "Data columns (total 67 columns):\n",
      " #   Column                              Non-Null Count  Dtype  \n",
      "---  ------                              --------------  -----  \n",
      " 0   Crash_Ref_Number                    11978 non-null  float64\n",
      " 1   Crash_Severity                      11978 non-null  object \n",
      " 2   Crash_Year                          11978 non-null  int64  \n",
      " 3   Crash_Month                         11978 non-null  object \n",
      " 4   Crash_Day_Of_Week                   11978 non-null  object \n",
      " 5   Crash_Hour                          11978 non-null  float64\n",
      " 6   Crash_Nature                        11978 non-null  object \n",
      " 7   Crash_Type                          11978 non-null  object \n",
      " 8   Crash_Longitude                     11978 non-null  float64\n",
      " 9   Crash_Latitude                      11978 non-null  float64\n",
      " 10  Crash_Street                        11978 non-null  object \n",
      " 11  Crash_Street_Intersecting           11978 non-null  object \n",
      " 12  State_Road_Name                     11978 non-null  object \n",
      " 13  Loc_Suburb                          11978 non-null  object \n",
      " 14  Loc_Local_Government_Area           11978 non-null  object \n",
      " 15  Loc_Post_Code                       11978 non-null  object \n",
      " 16  Loc_Police_Division                 11978 non-null  object \n",
      " 17  Loc_Police_District                 11978 non-null  object \n",
      " 18  Crash_Police_Region                 11978 non-null  object \n",
      " 19  Loc_Queensland_Transport_Region     11978 non-null  object \n",
      " 20  Loc_Main_Roads_Region               11978 non-null  object \n",
      " 21  Loc_ABS_Statistical_Area_2          11978 non-null  object \n",
      " 22  Loc_ABS_Statistical_Area_3          11978 non-null  object \n",
      " 23  Loc_ABS_Statistical_Area_4          11978 non-null  object \n",
      " 24  Loc_ABS_Remoteness                  11978 non-null  object \n",
      " 25  Loc_State_Electorate                11978 non-null  object \n",
      " 26  Loc_Federal_Electorate              11978 non-null  object \n",
      " 27  Crash_Controlling_Authority         11978 non-null  object \n",
      " 28  Crash_Roadway_Feature               11978 non-null  object \n",
      " 29  Crash_Traffic_Control               11978 non-null  object \n",
      " 30  Crash_Speed_Limit                   11978 non-null  object \n",
      " 31  Crash_Road_Surface_Condition        11978 non-null  object \n",
      " 32  Crash_Atmospheric_Condition         11978 non-null  object \n",
      " 33  Crash_Lighting_Condition            11978 non-null  object \n",
      " 34  Crash_Road_Horiz_Align              11978 non-null  object \n",
      " 35  Crash_Road_Vert_Align               11978 non-null  object \n",
      " 36  Crash_DCA_Code                      11978 non-null  float64\n",
      " 37  Crash_DCA_Description               11978 non-null  object \n",
      " 38  Crash_DCA_Group_Description         11978 non-null  object \n",
      " 39  DCA_Key_Approach_Dir                11978 non-null  object \n",
      " 40  Count_Casualty_Fatality             11978 non-null  int64  \n",
      " 41  Count_Casualty_Hospitalised         11978 non-null  int64  \n",
      " 42  Count_Casualty_MedicallyTreated     11978 non-null  int64  \n",
      " 43  Count_Casualty_MinorInjury          11978 non-null  int64  \n",
      " 44  Count_Casualty_All                  11978 non-null  int64  \n",
      " 45  Count_Unit_Car                      11978 non-null  float64\n",
      " 46  Count_Unit_Motorcycle_Moped         11978 non-null  float64\n",
      " 47  Count_Unit_Truck                    11978 non-null  float64\n",
      " 48  Count_Unit_Bus                      11978 non-null  float64\n",
      " 49  Count_Unit_Bicycle                  11978 non-null  float64\n",
      " 50  Count_Unit_Pedestrian               11978 non-null  float64\n",
      " 51  Count_Unit_Other                    11978 non-null  float64\n",
      " 52  Involving_Male_Driver               11978 non-null  object \n",
      " 53  Involving_Female_Driver             11978 non-null  object \n",
      " 54  Involving_Young_Driver_16-24        11978 non-null  object \n",
      " 55  Involving_Senior_Driver_60plus      11978 non-null  object \n",
      " 56  Involving_Provisional_Driver        11978 non-null  object \n",
      " 57  Involving_Overseas_Licensed_Driver  11978 non-null  object \n",
      " 58  Involving_Unlicensed_Driver         11978 non-null  object \n",
      " 59  Count_Crashes                       11978 non-null  float64\n",
      " 60  Involving_Motorcycle_Moped          11978 non-null  object \n",
      " 61  Involving_Truck                     11978 non-null  object \n",
      " 62  Involving_Bus                       11978 non-null  object \n",
      " 63  Involving_Drink_Driving             11978 non-null  object \n",
      " 64  Involving_Driver_Speed              11978 non-null  object \n",
      " 65  Involving_Fatigued_Driver           11978 non-null  object \n",
      " 66  Involving_Defective_Vehicle         11978 non-null  object \n",
      "dtypes: float64(13), int64(6), object(48)\n",
      "memory usage: 6.2+ MB\n"
     ]
    }
   ],
   "source": [
    "df_dropped_na.info()"
   ]
  },
  {
   "attachments": {},
   "cell_type": "markdown",
   "metadata": {},
   "source": [
    "Below is a final check for duplicates"
   ]
  },
  {
   "cell_type": "code",
   "execution_count": 54,
   "metadata": {},
   "outputs": [
    {
     "data": {
      "text/plain": [
       "(11978, 67)"
      ]
     },
     "execution_count": 54,
     "metadata": {},
     "output_type": "execute_result"
    }
   ],
   "source": [
    "df_deduplicated = df_dropped_na.drop_duplicates(subset = ['Crash_Ref_Number'])\n",
    "\n",
    "df_deduplicated.shape"
   ]
  },
  {
   "attachments": {},
   "cell_type": "markdown",
   "metadata": {},
   "source": [
    "And a final check for missing values"
   ]
  },
  {
   "cell_type": "code",
   "execution_count": 64,
   "metadata": {},
   "outputs": [
    {
     "data": {
      "text/plain": [
       "Crash_Ref_Number               0\n",
       "Crash_Severity                 0\n",
       "Crash_Year                     0\n",
       "Crash_Month                    0\n",
       "Crash_Day_Of_Week              0\n",
       "                              ..\n",
       "Involving_Bus                  0\n",
       "Involving_Drink_Driving        0\n",
       "Involving_Driver_Speed         0\n",
       "Involving_Fatigued_Driver      0\n",
       "Involving_Defective_Vehicle    0\n",
       "Length: 67, dtype: int64"
      ]
     },
     "execution_count": 64,
     "metadata": {},
     "output_type": "execute_result"
    }
   ],
   "source": [
    "df_deduplicated.isna().sum()"
   ]
  },
  {
   "attachments": {},
   "cell_type": "markdown",
   "metadata": {},
   "source": [
    "Looking at the first five rows, we can see that Crash_Ref_Number is no longer in increments of 1. This would be due to the numerous drops based on both the key columns and Crash_Ref_Number itself"
   ]
  },
  {
   "cell_type": "code",
   "execution_count": 52,
   "metadata": {},
   "outputs": [
    {
     "data": {
      "text/html": [
       "<div>\n",
       "<style scoped>\n",
       "    .dataframe tbody tr th:only-of-type {\n",
       "        vertical-align: middle;\n",
       "    }\n",
       "\n",
       "    .dataframe tbody tr th {\n",
       "        vertical-align: top;\n",
       "    }\n",
       "\n",
       "    .dataframe thead th {\n",
       "        text-align: right;\n",
       "    }\n",
       "</style>\n",
       "<table border=\"1\" class=\"dataframe\">\n",
       "  <thead>\n",
       "    <tr style=\"text-align: right;\">\n",
       "      <th></th>\n",
       "      <th>Crash_Ref_Number</th>\n",
       "      <th>Crash_Severity</th>\n",
       "      <th>Crash_Year</th>\n",
       "      <th>Crash_Month</th>\n",
       "      <th>Crash_Day_Of_Week</th>\n",
       "      <th>Crash_Hour</th>\n",
       "      <th>Crash_Nature</th>\n",
       "      <th>Crash_Type</th>\n",
       "      <th>Crash_Longitude</th>\n",
       "      <th>Crash_Latitude</th>\n",
       "      <th>...</th>\n",
       "      <th>Involving_Overseas_Licensed_Driver</th>\n",
       "      <th>Involving_Unlicensed_Driver</th>\n",
       "      <th>Count_Crashes</th>\n",
       "      <th>Involving_Motorcycle_Moped</th>\n",
       "      <th>Involving_Truck</th>\n",
       "      <th>Involving_Bus</th>\n",
       "      <th>Involving_Drink_Driving</th>\n",
       "      <th>Involving_Driver_Speed</th>\n",
       "      <th>Involving_Fatigued_Driver</th>\n",
       "      <th>Involving_Defective_Vehicle</th>\n",
       "    </tr>\n",
       "  </thead>\n",
       "  <tbody>\n",
       "    <tr>\n",
       "      <th>21</th>\n",
       "      <td>54.0</td>\n",
       "      <td>Hospitalisation</td>\n",
       "      <td>2001</td>\n",
       "      <td>March</td>\n",
       "      <td>Wednesday</td>\n",
       "      <td>7.0</td>\n",
       "      <td>Angle</td>\n",
       "      <td>Multi-Vehicle</td>\n",
       "      <td>153.027251</td>\n",
       "      <td>-27.588532</td>\n",
       "      <td>...</td>\n",
       "      <td>No</td>\n",
       "      <td>No</td>\n",
       "      <td>1.0</td>\n",
       "      <td>Yes</td>\n",
       "      <td>No</td>\n",
       "      <td>Yes</td>\n",
       "      <td>No</td>\n",
       "      <td>Yes</td>\n",
       "      <td>No</td>\n",
       "      <td>Yes</td>\n",
       "    </tr>\n",
       "    <tr>\n",
       "      <th>60</th>\n",
       "      <td>165.0</td>\n",
       "      <td>Hospitalisation</td>\n",
       "      <td>2001</td>\n",
       "      <td>September</td>\n",
       "      <td>Sunday</td>\n",
       "      <td>21.0</td>\n",
       "      <td>Hit object</td>\n",
       "      <td>Single Vehicle</td>\n",
       "      <td>153.016740</td>\n",
       "      <td>-27.557919</td>\n",
       "      <td>...</td>\n",
       "      <td>No</td>\n",
       "      <td>No</td>\n",
       "      <td>1.0</td>\n",
       "      <td>Yes</td>\n",
       "      <td>No</td>\n",
       "      <td>Yes</td>\n",
       "      <td>No</td>\n",
       "      <td>Yes</td>\n",
       "      <td>No</td>\n",
       "      <td>Yes</td>\n",
       "    </tr>\n",
       "    <tr>\n",
       "      <th>69</th>\n",
       "      <td>205.0</td>\n",
       "      <td>Hospitalisation</td>\n",
       "      <td>2001</td>\n",
       "      <td>November</td>\n",
       "      <td>Wednesday</td>\n",
       "      <td>14.0</td>\n",
       "      <td>Angle</td>\n",
       "      <td>Multi-Vehicle</td>\n",
       "      <td>153.036140</td>\n",
       "      <td>-27.595905</td>\n",
       "      <td>...</td>\n",
       "      <td>No</td>\n",
       "      <td>No</td>\n",
       "      <td>1.0</td>\n",
       "      <td>Yes</td>\n",
       "      <td>No</td>\n",
       "      <td>Yes</td>\n",
       "      <td>No</td>\n",
       "      <td>Yes</td>\n",
       "      <td>No</td>\n",
       "      <td>Yes</td>\n",
       "    </tr>\n",
       "    <tr>\n",
       "      <th>72</th>\n",
       "      <td>217.0</td>\n",
       "      <td>Hospitalisation</td>\n",
       "      <td>2001</td>\n",
       "      <td>December</td>\n",
       "      <td>Tuesday</td>\n",
       "      <td>22.0</td>\n",
       "      <td>Angle</td>\n",
       "      <td>Multi-Vehicle</td>\n",
       "      <td>153.020750</td>\n",
       "      <td>-27.558559</td>\n",
       "      <td>...</td>\n",
       "      <td>No</td>\n",
       "      <td>No</td>\n",
       "      <td>1.0</td>\n",
       "      <td>Yes</td>\n",
       "      <td>No</td>\n",
       "      <td>Yes</td>\n",
       "      <td>No</td>\n",
       "      <td>Yes</td>\n",
       "      <td>No</td>\n",
       "      <td>Yes</td>\n",
       "    </tr>\n",
       "    <tr>\n",
       "      <th>147</th>\n",
       "      <td>4944.0</td>\n",
       "      <td>Hospitalisation</td>\n",
       "      <td>2001</td>\n",
       "      <td>March</td>\n",
       "      <td>Thursday</td>\n",
       "      <td>16.0</td>\n",
       "      <td>Rear-end</td>\n",
       "      <td>Multi-Vehicle</td>\n",
       "      <td>152.989263</td>\n",
       "      <td>-27.445968</td>\n",
       "      <td>...</td>\n",
       "      <td>No</td>\n",
       "      <td>No</td>\n",
       "      <td>1.0</td>\n",
       "      <td>Yes</td>\n",
       "      <td>No</td>\n",
       "      <td>Yes</td>\n",
       "      <td>No</td>\n",
       "      <td>Yes</td>\n",
       "      <td>No</td>\n",
       "      <td>Yes</td>\n",
       "    </tr>\n",
       "  </tbody>\n",
       "</table>\n",
       "<p>5 rows × 67 columns</p>\n",
       "</div>"
      ],
      "text/plain": [
       "     Crash_Ref_Number   Crash_Severity  Crash_Year Crash_Month  \\\n",
       "21               54.0  Hospitalisation        2001       March   \n",
       "60              165.0  Hospitalisation        2001   September   \n",
       "69              205.0  Hospitalisation        2001    November   \n",
       "72              217.0  Hospitalisation        2001    December   \n",
       "147            4944.0  Hospitalisation        2001       March   \n",
       "\n",
       "    Crash_Day_Of_Week  Crash_Hour Crash_Nature      Crash_Type  \\\n",
       "21          Wednesday         7.0        Angle   Multi-Vehicle   \n",
       "60             Sunday        21.0   Hit object  Single Vehicle   \n",
       "69          Wednesday        14.0        Angle   Multi-Vehicle   \n",
       "72            Tuesday        22.0        Angle   Multi-Vehicle   \n",
       "147          Thursday        16.0     Rear-end   Multi-Vehicle   \n",
       "\n",
       "     Crash_Longitude  Crash_Latitude  ... Involving_Overseas_Licensed_Driver  \\\n",
       "21        153.027251      -27.588532  ...                                 No   \n",
       "60        153.016740      -27.557919  ...                                 No   \n",
       "69        153.036140      -27.595905  ...                                 No   \n",
       "72        153.020750      -27.558559  ...                                 No   \n",
       "147       152.989263      -27.445968  ...                                 No   \n",
       "\n",
       "    Involving_Unlicensed_Driver Count_Crashes Involving_Motorcycle_Moped  \\\n",
       "21                           No           1.0                        Yes   \n",
       "60                           No           1.0                        Yes   \n",
       "69                           No           1.0                        Yes   \n",
       "72                           No           1.0                        Yes   \n",
       "147                          No           1.0                        Yes   \n",
       "\n",
       "    Involving_Truck Involving_Bus Involving_Drink_Driving  \\\n",
       "21               No           Yes                      No   \n",
       "60               No           Yes                      No   \n",
       "69               No           Yes                      No   \n",
       "72               No           Yes                      No   \n",
       "147              No           Yes                      No   \n",
       "\n",
       "    Involving_Driver_Speed Involving_Fatigued_Driver  \\\n",
       "21                     Yes                        No   \n",
       "60                     Yes                        No   \n",
       "69                     Yes                        No   \n",
       "72                     Yes                        No   \n",
       "147                    Yes                        No   \n",
       "\n",
       "    Involving_Defective_Vehicle  \n",
       "21                          Yes  \n",
       "60                          Yes  \n",
       "69                          Yes  \n",
       "72                          Yes  \n",
       "147                         Yes  \n",
       "\n",
       "[5 rows x 67 columns]"
      ]
     },
     "execution_count": 52,
     "metadata": {},
     "output_type": "execute_result"
    }
   ],
   "source": [
    "df_deduplicated.head()"
   ]
  },
  {
   "attachments": {},
   "cell_type": "markdown",
   "metadata": {},
   "source": [
    "Changing Crash_Ref_Number back to int (became float due to dropna)"
   ]
  },
  {
   "cell_type": "code",
   "execution_count": 55,
   "metadata": {},
   "outputs": [],
   "source": [
    "df_deduplicated['Crash_Ref_Number'] = df_deduplicated['Crash_Ref_Number'].astype('int64')"
   ]
  },
  {
   "cell_type": "code",
   "execution_count": 61,
   "metadata": {},
   "outputs": [
    {
     "data": {
      "text/html": [
       "<div>\n",
       "<style scoped>\n",
       "    .dataframe tbody tr th:only-of-type {\n",
       "        vertical-align: middle;\n",
       "    }\n",
       "\n",
       "    .dataframe tbody tr th {\n",
       "        vertical-align: top;\n",
       "    }\n",
       "\n",
       "    .dataframe thead th {\n",
       "        text-align: right;\n",
       "    }\n",
       "</style>\n",
       "<table border=\"1\" class=\"dataframe\">\n",
       "  <thead>\n",
       "    <tr style=\"text-align: right;\">\n",
       "      <th></th>\n",
       "      <th>Crash_Ref_Number</th>\n",
       "      <th>Crash_Severity</th>\n",
       "      <th>Crash_Year</th>\n",
       "      <th>Crash_Month</th>\n",
       "      <th>Crash_Day_Of_Week</th>\n",
       "      <th>Crash_Hour</th>\n",
       "      <th>Crash_Nature</th>\n",
       "      <th>Crash_Type</th>\n",
       "      <th>Crash_Longitude</th>\n",
       "      <th>Crash_Latitude</th>\n",
       "      <th>...</th>\n",
       "      <th>Involving_Overseas_Licensed_Driver</th>\n",
       "      <th>Involving_Unlicensed_Driver</th>\n",
       "      <th>Count_Crashes</th>\n",
       "      <th>Involving_Motorcycle_Moped</th>\n",
       "      <th>Involving_Truck</th>\n",
       "      <th>Involving_Bus</th>\n",
       "      <th>Involving_Drink_Driving</th>\n",
       "      <th>Involving_Driver_Speed</th>\n",
       "      <th>Involving_Fatigued_Driver</th>\n",
       "      <th>Involving_Defective_Vehicle</th>\n",
       "    </tr>\n",
       "  </thead>\n",
       "  <tbody>\n",
       "    <tr>\n",
       "      <th>21</th>\n",
       "      <td>54</td>\n",
       "      <td>Hospitalisation</td>\n",
       "      <td>2001</td>\n",
       "      <td>March</td>\n",
       "      <td>Wednesday</td>\n",
       "      <td>7.0</td>\n",
       "      <td>Angle</td>\n",
       "      <td>Multi-Vehicle</td>\n",
       "      <td>153.027251</td>\n",
       "      <td>-27.588532</td>\n",
       "      <td>...</td>\n",
       "      <td>No</td>\n",
       "      <td>No</td>\n",
       "      <td>1.0</td>\n",
       "      <td>Yes</td>\n",
       "      <td>No</td>\n",
       "      <td>Yes</td>\n",
       "      <td>No</td>\n",
       "      <td>Yes</td>\n",
       "      <td>No</td>\n",
       "      <td>Yes</td>\n",
       "    </tr>\n",
       "    <tr>\n",
       "      <th>60</th>\n",
       "      <td>165</td>\n",
       "      <td>Hospitalisation</td>\n",
       "      <td>2001</td>\n",
       "      <td>September</td>\n",
       "      <td>Sunday</td>\n",
       "      <td>21.0</td>\n",
       "      <td>Hit object</td>\n",
       "      <td>Single Vehicle</td>\n",
       "      <td>153.016740</td>\n",
       "      <td>-27.557919</td>\n",
       "      <td>...</td>\n",
       "      <td>No</td>\n",
       "      <td>No</td>\n",
       "      <td>1.0</td>\n",
       "      <td>Yes</td>\n",
       "      <td>No</td>\n",
       "      <td>Yes</td>\n",
       "      <td>No</td>\n",
       "      <td>Yes</td>\n",
       "      <td>No</td>\n",
       "      <td>Yes</td>\n",
       "    </tr>\n",
       "    <tr>\n",
       "      <th>69</th>\n",
       "      <td>205</td>\n",
       "      <td>Hospitalisation</td>\n",
       "      <td>2001</td>\n",
       "      <td>November</td>\n",
       "      <td>Wednesday</td>\n",
       "      <td>14.0</td>\n",
       "      <td>Angle</td>\n",
       "      <td>Multi-Vehicle</td>\n",
       "      <td>153.036140</td>\n",
       "      <td>-27.595905</td>\n",
       "      <td>...</td>\n",
       "      <td>No</td>\n",
       "      <td>No</td>\n",
       "      <td>1.0</td>\n",
       "      <td>Yes</td>\n",
       "      <td>No</td>\n",
       "      <td>Yes</td>\n",
       "      <td>No</td>\n",
       "      <td>Yes</td>\n",
       "      <td>No</td>\n",
       "      <td>Yes</td>\n",
       "    </tr>\n",
       "    <tr>\n",
       "      <th>72</th>\n",
       "      <td>217</td>\n",
       "      <td>Hospitalisation</td>\n",
       "      <td>2001</td>\n",
       "      <td>December</td>\n",
       "      <td>Tuesday</td>\n",
       "      <td>22.0</td>\n",
       "      <td>Angle</td>\n",
       "      <td>Multi-Vehicle</td>\n",
       "      <td>153.020750</td>\n",
       "      <td>-27.558559</td>\n",
       "      <td>...</td>\n",
       "      <td>No</td>\n",
       "      <td>No</td>\n",
       "      <td>1.0</td>\n",
       "      <td>Yes</td>\n",
       "      <td>No</td>\n",
       "      <td>Yes</td>\n",
       "      <td>No</td>\n",
       "      <td>Yes</td>\n",
       "      <td>No</td>\n",
       "      <td>Yes</td>\n",
       "    </tr>\n",
       "    <tr>\n",
       "      <th>147</th>\n",
       "      <td>4944</td>\n",
       "      <td>Hospitalisation</td>\n",
       "      <td>2001</td>\n",
       "      <td>March</td>\n",
       "      <td>Thursday</td>\n",
       "      <td>16.0</td>\n",
       "      <td>Rear-end</td>\n",
       "      <td>Multi-Vehicle</td>\n",
       "      <td>152.989263</td>\n",
       "      <td>-27.445968</td>\n",
       "      <td>...</td>\n",
       "      <td>No</td>\n",
       "      <td>No</td>\n",
       "      <td>1.0</td>\n",
       "      <td>Yes</td>\n",
       "      <td>No</td>\n",
       "      <td>Yes</td>\n",
       "      <td>No</td>\n",
       "      <td>Yes</td>\n",
       "      <td>No</td>\n",
       "      <td>Yes</td>\n",
       "    </tr>\n",
       "  </tbody>\n",
       "</table>\n",
       "<p>5 rows × 67 columns</p>\n",
       "</div>"
      ],
      "text/plain": [
       "     Crash_Ref_Number   Crash_Severity  Crash_Year Crash_Month  \\\n",
       "21                 54  Hospitalisation        2001       March   \n",
       "60                165  Hospitalisation        2001   September   \n",
       "69                205  Hospitalisation        2001    November   \n",
       "72                217  Hospitalisation        2001    December   \n",
       "147              4944  Hospitalisation        2001       March   \n",
       "\n",
       "    Crash_Day_Of_Week  Crash_Hour Crash_Nature      Crash_Type  \\\n",
       "21          Wednesday         7.0        Angle   Multi-Vehicle   \n",
       "60             Sunday        21.0   Hit object  Single Vehicle   \n",
       "69          Wednesday        14.0        Angle   Multi-Vehicle   \n",
       "72            Tuesday        22.0        Angle   Multi-Vehicle   \n",
       "147          Thursday        16.0     Rear-end   Multi-Vehicle   \n",
       "\n",
       "     Crash_Longitude  Crash_Latitude  ... Involving_Overseas_Licensed_Driver  \\\n",
       "21        153.027251      -27.588532  ...                                 No   \n",
       "60        153.016740      -27.557919  ...                                 No   \n",
       "69        153.036140      -27.595905  ...                                 No   \n",
       "72        153.020750      -27.558559  ...                                 No   \n",
       "147       152.989263      -27.445968  ...                                 No   \n",
       "\n",
       "    Involving_Unlicensed_Driver Count_Crashes Involving_Motorcycle_Moped  \\\n",
       "21                           No           1.0                        Yes   \n",
       "60                           No           1.0                        Yes   \n",
       "69                           No           1.0                        Yes   \n",
       "72                           No           1.0                        Yes   \n",
       "147                          No           1.0                        Yes   \n",
       "\n",
       "    Involving_Truck Involving_Bus Involving_Drink_Driving  \\\n",
       "21               No           Yes                      No   \n",
       "60               No           Yes                      No   \n",
       "69               No           Yes                      No   \n",
       "72               No           Yes                      No   \n",
       "147              No           Yes                      No   \n",
       "\n",
       "    Involving_Driver_Speed Involving_Fatigued_Driver  \\\n",
       "21                     Yes                        No   \n",
       "60                     Yes                        No   \n",
       "69                     Yes                        No   \n",
       "72                     Yes                        No   \n",
       "147                    Yes                        No   \n",
       "\n",
       "    Involving_Defective_Vehicle  \n",
       "21                          Yes  \n",
       "60                          Yes  \n",
       "69                          Yes  \n",
       "72                          Yes  \n",
       "147                         Yes  \n",
       "\n",
       "[5 rows x 67 columns]"
      ]
     },
     "execution_count": 61,
     "metadata": {},
     "output_type": "execute_result"
    }
   ],
   "source": [
    "df_deduplicated.head()"
   ]
  },
  {
   "attachments": {},
   "cell_type": "markdown",
   "metadata": {},
   "source": [
    "The last step of pre-processing is to simply output to a csv file that can be used by other scripts/notebooks for analyses."
   ]
  },
  {
   "cell_type": "code",
   "execution_count": 65,
   "metadata": {},
   "outputs": [],
   "source": [
    "df_qld_crash_data = df_deduplicated\n",
    "df_qld_crash_data.to_csv('qld_crash_data_merged_processed.csv', index = False)"
   ]
  }
 ],
 "metadata": {
  "kernelspec": {
   "display_name": "Python3-11-3",
   "language": "python",
   "name": "python3"
  },
  "language_info": {
   "codemirror_mode": {
    "name": "ipython",
    "version": 3
   },
   "file_extension": ".py",
   "mimetype": "text/x-python",
   "name": "python",
   "nbconvert_exporter": "python",
   "pygments_lexer": "ipython3",
   "version": "3.8.0"
  },
  "orig_nbformat": 4
 },
 "nbformat": 4,
 "nbformat_minor": 2
}
